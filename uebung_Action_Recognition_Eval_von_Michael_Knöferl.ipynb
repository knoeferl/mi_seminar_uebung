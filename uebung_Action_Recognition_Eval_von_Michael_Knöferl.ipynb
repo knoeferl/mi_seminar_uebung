{
  "nbformat": 4,
  "nbformat_minor": 0,
  "metadata": {
    "colab": {
      "name": "uebung Action Recognition von Michael Knöferl",
      "provenance": [],
      "collapsed_sections": [],
      "include_colab_link": true
    },
    "kernelspec": {
      "name": "python3",
      "display_name": "Python 3"
    },
    "accelerator": "GPU"
  },
  "cells": [
    {
      "cell_type": "markdown",
      "metadata": {
        "id": "view-in-github",
        "colab_type": "text"
      },
      "source": [
        "<a href=\"https://colab.research.google.com/github/knoeferl/mi_seminar_uebung/blob/main/uebung_Action_Recognition_Eval_von_Michael_Kn%C3%B6ferl.ipynb\" target=\"_parent\"><img src=\"https://colab.research.google.com/assets/colab-badge.svg\" alt=\"Open In Colab\"/></a>"
      ]
    },
    {
      "cell_type": "markdown",
      "metadata": {
        "id": "X38L6tanrnrB"
      },
      "source": [
        "# Übung Action Recognition mit LSTM von Michael Knöferl\n",
        "\n",
        "In folgender Übung sollt ihr die Inhalte aus des Vortargs selbst nachstellen können.\n",
        "\n"
      ]
    },
    {
      "cell_type": "markdown",
      "metadata": {
        "id": "sH2d6fhvJJU0"
      },
      "source": [
        "Install OpenPose"
      ]
    },
    {
      "cell_type": "code",
      "metadata": {
        "id": "CntVwO4ahtG9",
        "outputId": "7eb32b34-97c2-4ba0-88fa-b835de3ee4da",
        "colab": {
          "base_uri": "https://localhost:8080/"
        }
      },
      "source": [
        "!git clone -l -s git://github.com/knoeferl/mi_seminar_uebung.git mi_seminar_uebung\n",
        "%cd mi_seminar_uebung\n",
        "!ls"
      ],
      "execution_count": 3,
      "outputs": [
        {
          "output_type": "stream",
          "text": [
            "Cloning into 'mi_seminar_uebung'...\n",
            "warning: --local is ignored\n",
            "remote: Enumerating objects: 14, done.\u001b[K\n",
            "remote: Counting objects: 100% (14/14), done.\u001b[K\n",
            "remote: Compressing objects: 100% (12/12), done.\u001b[K\n",
            "remote: Total 14 (delta 3), reused 5 (delta 0), pack-reused 0\u001b[K\n",
            "Receiving objects: 100% (14/14), 76.92 KiB | 495.00 KiB/s, done.\n",
            "Resolving deltas: 100% (3/3), done.\n",
            "/content/cloned-repo/mi_seminar_uebung/mi_seminar_uebung\n",
            "extract_features.py  README.md\n",
            "helper.py\t     uebung_Action_Recognition_Eval_von_Michael_Knöferl.ipynb\n",
            "preprocessing.py     uebung_Action_Recognition_von_Michael_Knöferl.ipynb\n"
          ],
          "name": "stdout"
        }
      ]
    },
    {
      "cell_type": "code",
      "metadata": {
        "id": "FOdkDhb6ga6N"
      },
      "source": [
        "import os\n",
        "from os.path import exists, join, basename, splitext\n",
        "from IPython.display import clear_output\n",
        "\n",
        "git_repo_url = 'https://github.com/CMU-Perceptual-Computing-Lab/openpose.git'\n",
        "project_name = splitext(basename(git_repo_url))[0]\n",
        "if not exists(project_name):\n",
        "  # see: https://github.com/CMU-Perceptual-Computing-Lab/openpose/issues/949\n",
        "  # install new CMake becaue of CUDA10\n",
        "  !wget -q https://cmake.org/files/v3.13/cmake-3.13.0-Linux-x86_64.tar.gz\n",
        "  !tar xfz cmake-3.13.0-Linux-x86_64.tar.gz --strip-components=1 -C /usr/local\n",
        "  # clone openpose\n",
        "  !git clone -q --depth 1 $git_repo_url\n",
        "  !sed -i 's/execute_process(COMMAND git checkout master WORKING_DIRECTORY ${CMAKE_SOURCE_DIR}\\/3rdparty\\/caffe)/execute_process(COMMAND git checkout f019d0dfe86f49d1140961f8c7dec22130c83154 WORKING_DIRECTORY ${CMAKE_SOURCE_DIR}\\/3rdparty\\/caffe)/g' openpose/CMakeLists.txt\n",
        "  # install system dependencies\n",
        "  !apt-get -qq install -y libatlas-base-dev libprotobuf-dev libleveldb-dev libsnappy-dev libhdf5-serial-dev protobuf-compiler libgflags-dev libgoogle-glog-dev liblmdb-dev opencl-headers ocl-icd-opencl-dev libviennacl-dev\n",
        "  # install python dependencies\n",
        "  !pip install -q youtube-dl\n",
        "  # build openpose\n",
        "  !cd openpose && rm -rf build || true && mkdir build && cd build && cmake .. && make -j`nproc`\n",
        "  \n",
        "clear_output()\n"
      ],
      "execution_count": 4,
      "outputs": []
    },
    {
      "cell_type": "code",
      "metadata": {
        "id": "VRpTLhRs_RTs"
      },
      "source": [
        "!pip3 install torch torchvision\n",
        "!pip3 install torchnet\n",
        "clear_output()"
      ],
      "execution_count": 5,
      "outputs": []
    },
    {
      "cell_type": "code",
      "metadata": {
        "id": "WPcv3hKWhMmz"
      },
      "source": [
        ""
      ],
      "execution_count": 5,
      "outputs": []
    },
    {
      "cell_type": "markdown",
      "metadata": {
        "id": "kLMSLYJRLgJk"
      },
      "source": [
        "Download Dataset and Trained Model"
      ]
    },
    {
      "cell_type": "code",
      "metadata": {
        "id": "hjiLlEX4ai0K"
      },
      "source": [
        "from IPython.display import clear_output\n",
        "\n",
        "!wget --no-check-certificate 'https://docs.google.com/uc?export=download&id=1Cq-kw9XDiPYURfTS14FUE8lo0ka4HR-k' -O mydataset.h5\n",
        "!wget --no-check-certificate 'https://docs.google.com/uc?export=download&id=19lihi0IJvudkd6816z5nudfyaEBpOwf1' -O model.pth\n",
        "\n",
        "clear_output()"
      ],
      "execution_count": 6,
      "outputs": []
    },
    {
      "cell_type": "markdown",
      "metadata": {
        "id": "sW055FSHKOsm"
      },
      "source": [
        ""
      ]
    },
    {
      "cell_type": "code",
      "metadata": {
        "colab": {
          "base_uri": "https://localhost:8080/"
        },
        "id": "IIPMHjKqCyfK",
        "outputId": "0bf0b0d5-2683-46c8-a5dd-fcb58d10179f"
      },
      "source": [
        "import os\n",
        "import numpy as np\n",
        "import h5py\n",
        "\n",
        "import torch\n",
        "import torch.nn as nn\n",
        "from torch.autograd import Variable\n",
        "import torch.utils.data as DD\n",
        "import torchnet as tnt\n",
        "from torchvision import datasets\n",
        "from torchvision import transforms\n",
        "from torch.utils.data.sampler import SubsetRandomSampler\n",
        "import pandas as pd\n",
        "\n",
        "os.environ['CUDA_LAUNCH_BLOCKING'] = \"1\"\n",
        "use_cuda = torch.cuda.is_available()\n",
        "print('use cuda: %s'%(use_cuda))\n",
        "FloatTensor = torch.cuda.FloatTensor if use_cuda else torch.FloatTensor\n",
        "LongTensor = torch.cuda.LongTensor if use_cuda else torch.LongTensor\n",
        "ByteTensor = torch.cuda.ByteTensor if use_cuda else torch.ByteTensor\n",
        "import torchvision.models.inception as inception\n",
        "\n"
      ],
      "execution_count": 7,
      "outputs": [
        {
          "output_type": "stream",
          "text": [
            "use cuda: True\n"
          ],
          "name": "stdout"
        }
      ]
    },
    {
      "cell_type": "markdown",
      "metadata": {
        "id": "BRJlwSA55wlC"
      },
      "source": [
        "\n",
        "###Datensatz\n",
        "Wie im Vortrag erwähnt besteht der Datensatz das die bereits mit Openpose vor verarbeitet wurden und die entsprechenden Features wurde bereits extrahiert.\n",
        "\n",
        "Es sind 3 Features pro Bild für 15 Bilder und wir laden immer 15 Stück als ein Batch ein.\n",
        "\n",
        "Beim Laden werden die Daten gleich in einen Trainings- und einen Validierungsdatensatz aufgeteilt"
      ]
    },
    {
      "cell_type": "code",
      "metadata": {
        "id": "VCF9-mJJ59rM"
      },
      "source": [
        "class Dataset(DD.Dataset):\n",
        "    # subset can be: 'train', 'val', 'test'\n",
        "    def __init__(self, data_path, name='dataset'):\n",
        "        super(Dataset, self).__init__()\n",
        "        self.data_path = os.path.join(data_path, '%s.h5'%name)\n",
        "\n",
        "        with h5py.File(self.data_path) as f:\n",
        "            self.data = np.array(f['seq'])\n",
        "            self.label = np.array(f['label'])\n",
        "\n",
        "        self.num_sequences = self.data.shape[0]\n",
        "        self.seq_len = self.data.shape[1]\n",
        "        self.n_dim = self.data.shape[2]\n",
        "\n",
        "    def __getitem__(self, index):\n",
        "        seq = self.data[index]\n",
        "        label = int(self.label[index])\n",
        "        sample = {'seq': seq, 'label': label}\n",
        "        return sample\n",
        "\n",
        "\n",
        "    def __len__(self):\n",
        "        return self.num_sequences\n",
        "\n",
        "\n",
        "\n",
        "\n",
        "dataset = Dataset('./', name='mydataset')\n",
        "batch_size = 15\n",
        "validation_split = .2\n",
        "shuffle_dataset = True\n",
        "random_seed= 42\n",
        "\n",
        "\n",
        "dataset_size = len(dataset)\n",
        "indices = list(range(dataset_size))\n",
        "split = int(np.floor(validation_split * dataset_size))\n",
        "if shuffle_dataset :\n",
        "    np.random.seed(random_seed)\n",
        "    np.random.shuffle(indices)\n",
        "train_indices, val_indices = indices[split:], indices[:split]\n",
        "\n",
        "train_sampler = SubsetRandomSampler(train_indices)\n",
        "valid_sampler = SubsetRandomSampler(val_indices)\n",
        "\n",
        "trLD = torch.utils.data.DataLoader(dataset, batch_size=batch_size,\n",
        "                                           sampler=train_sampler)\n",
        "valLD = torch.utils.data.DataLoader(dataset, batch_size=batch_size,\n",
        "                                                sampler=valid_sampler)\n",
        "input_dim = dataset.n_dim\n",
        "\n",
        "num_class = 4\n",
        "dim = batch_size * dataset.n_dim"
      ],
      "execution_count": 8,
      "outputs": []
    },
    {
      "cell_type": "markdown",
      "metadata": {
        "id": "-PeHFvaFFO6U"
      },
      "source": [
        "##Anzahl der Features"
      ]
    },
    {
      "cell_type": "code",
      "metadata": {
        "colab": {
          "base_uri": "https://localhost:8080/"
        },
        "id": "VSG1PUz16SUS",
        "outputId": "8367d70d-d66b-412c-8752-bb23c79e544c"
      },
      "source": [
        "print(dataset.n_dim)"
      ],
      "execution_count": 9,
      "outputs": [
        {
          "output_type": "stream",
          "text": [
            "45\n"
          ],
          "name": "stdout"
        }
      ]
    },
    {
      "cell_type": "markdown",
      "metadata": {
        "id": "rGFV_3XSFf_F"
      },
      "source": [
        "##Länge einer Sequenzen"
      ]
    },
    {
      "cell_type": "code",
      "metadata": {
        "id": "RHJCcn5VFyeR",
        "outputId": "11e55c5f-d139-4d50-fef0-dfdb6c638994",
        "colab": {
          "base_uri": "https://localhost:8080/"
        }
      },
      "source": [
        "print(dataset.seq_len)"
      ],
      "execution_count": 10,
      "outputs": [
        {
          "output_type": "stream",
          "text": [
            "15\n"
          ],
          "name": "stdout"
        }
      ]
    },
    {
      "cell_type": "markdown",
      "metadata": {
        "id": "W-IBC1t6F4d8"
      },
      "source": [
        "##Anzahl der Sequenzen"
      ]
    },
    {
      "cell_type": "code",
      "metadata": {
        "id": "eMwlvjVFF3zv",
        "outputId": "c486d828-b256-4084-a745-4ae6eae591d6",
        "colab": {
          "base_uri": "https://localhost:8080/"
        }
      },
      "source": [
        "print(dataset.num_sequences)"
      ],
      "execution_count": 11,
      "outputs": [
        {
          "output_type": "stream",
          "text": [
            "1953\n"
          ],
          "name": "stdout"
        }
      ]
    },
    {
      "cell_type": "markdown",
      "metadata": {
        "id": "WNrxl5FEF1dN"
      },
      "source": [
        ""
      ]
    },
    {
      "cell_type": "code",
      "metadata": {
        "id": "oVEYPelE6X7x"
      },
      "source": [
        "class Flatten(nn.Module):\n",
        "    def forward(self, x):\n",
        "        N, C, H, W = x.size() # read in N, C, H, W\n",
        "        return x.view(N, -1)\n",
        "\n",
        "\n",
        "\n",
        "class SequenceClassify(nn.Module):\n",
        "    def __init__(self, dim, batch_size):\n",
        "        super(SequenceClassify, self).__init__()\n",
        "        self.recurrent_layer = nn.LSTM(45, 256, 1)\n",
        "        self.project_layer = nn.Linear(256, num_class)\n",
        "        ###################################################\n",
        "    def forward(self, input1, h_t_1=None, c_t_1=None):\n",
        "        lstm_input = input1\n",
        "        rnn_outputs, (hn, cn) = self.recurrent_layer(lstm_input)        \n",
        "        # classify the last step of rnn_outpus\n",
        "        logits = self.project_layer(rnn_outputs[:,-1])\n",
        "        return logits\n",
        "    \n",
        "    \n",
        "\n",
        "model = SequenceClassify(dim, batch_size).cuda()"
      ],
      "execution_count": 12,
      "outputs": []
    },
    {
      "cell_type": "markdown",
      "metadata": {
        "id": "dq8Zy5W9GlPC"
      },
      "source": [
        "##Optimizer wahl"
      ]
    },
    {
      "cell_type": "code",
      "metadata": {
        "id": "_vKUsozn6fc4"
      },
      "source": [
        "# optimizer = torch.optim.SGD(model.parameters(), lr = 1e-3)\n",
        "optimizer = torch.optim.Adadelta(model.parameters(), lr = 1e-1)\n",
        "# optimizer = torch.optim.Adam(model.parameters(), lr=0.01)\n",
        "criterion = nn.CrossEntropyLoss()"
      ],
      "execution_count": 13,
      "outputs": []
    },
    {
      "cell_type": "markdown",
      "metadata": {
        "id": "0NhhDOPL6wKK"
      },
      "source": [
        "# run the model for one epoch\n",
        "# can be used for both training or validation model"
      ]
    },
    {
      "cell_type": "code",
      "metadata": {
        "colab": {
          "base_uri": "https://localhost:8080/"
        },
        "id": "R-ZvYDB56stY",
        "outputId": "09bcf2cf-08e9-4d59-fca4-70455d5e2ca9"
      },
      "source": [
        "def run_epoch(data_loader, model, criterion, epoch, is_training, optimizer=None):\n",
        "    if is_training:\n",
        "        model.train()\n",
        "        logger_prefix = 'train'\n",
        "    else:\n",
        "        model.eval()\n",
        "        logger_prefix = 'val'\n",
        "\n",
        "    confusion_matrix = tnt.meter.ConfusionMeter(num_class)\n",
        "    acc = tnt.meter.ClassErrorMeter(accuracy=True)\n",
        "    meter_loss = tnt.meter.AverageValueMeter()\n",
        "\n",
        "    for batch_idx, sample in enumerate(data_loader):\n",
        "        sequence = sample['seq']\n",
        "        label = sample['label']\n",
        "        input_sequence_var = Variable(sequence).type(FloatTensor)\n",
        "        input_label_var = Variable(label).type(LongTensor)\n",
        "        # compute output\n",
        "        # output_logits: [batch_size, num_class]\n",
        "        output_logits = model(input_sequence_var)\n",
        "        loss = criterion(output_logits, input_label_var)\n",
        "\n",
        "        if is_training:\n",
        "            optimizer.zero_grad()\n",
        "            loss.backward()\n",
        "            optimizer.step()\n",
        "\n",
        "\n",
        "        meter_loss.add(loss.item())\n",
        "        acc.add(output_logits.data, input_label_var.data)\n",
        "        confusion_matrix.add(output_logits.data, input_label_var.data)\n",
        "\n",
        "    print('%s Epoch: %d  , Loss: %.4f,  Accuracy: %.2f'%(logger_prefix, epoch, meter_loss.value()[0], acc.value()[0]))\n",
        "    if logger_prefix == 'val':\n",
        "        val_loss.append(meter_loss.value()[0])\n",
        "        val_accuracy.append(acc.value()[0])\n",
        "    else:\n",
        "        train_loss.append(meter_loss.value()[0])\n",
        "        train_accuracy.append(acc.value()[0])\n",
        "    return acc.value()[0]\n",
        "\n",
        "global val_loss, val_accuracy, train_loss, train_accuracy, num_epochs\n",
        "val_loss = []\n",
        "val_accuracy = []\n",
        "train_loss = []\n",
        "train_accuracy = []\n",
        "num_epochs = 51\n",
        "evaluate_every_epoch = 1\n",
        "\n",
        "for e in range(num_epochs):\n",
        "    print(\"Epoche \" + str(e) + \" of \" + str(num_epochs))\n",
        "    run_epoch(trLD, model, criterion, e, True, optimizer)\n",
        "    if e % evaluate_every_epoch == 0:\n",
        "        run_epoch(valLD, model, criterion, e, False, None)   \n",
        "\n",
        "# PATH = \"model.pth\"\n",
        "# torch.save(model.state_dict(), PATH)\n",
        "\n"
      ],
      "execution_count": 14,
      "outputs": [
        {
          "output_type": "stream",
          "text": [
            "Epoche 0 of 51\n",
            "train Epoch: 0  , Loss: 1.0150,  Accuracy: 71.66\n",
            "val Epoch: 0  , Loss: 0.8303,  Accuracy: 76.15\n",
            "Epoche 1 of 51\n",
            "train Epoch: 1  , Loss: 0.7731,  Accuracy: 76.90\n",
            "val Epoch: 1  , Loss: 0.7966,  Accuracy: 76.92\n",
            "Epoche 2 of 51\n",
            "train Epoch: 2  , Loss: 0.6980,  Accuracy: 77.16\n",
            "val Epoch: 2  , Loss: 0.6865,  Accuracy: 76.92\n",
            "Epoche 3 of 51\n",
            "train Epoch: 3  , Loss: 0.6496,  Accuracy: 78.63\n",
            "val Epoch: 3  , Loss: 0.6767,  Accuracy: 77.95\n",
            "Epoche 4 of 51\n",
            "train Epoch: 4  , Loss: 0.5955,  Accuracy: 80.04\n",
            "val Epoch: 4  , Loss: 0.6290,  Accuracy: 79.49\n",
            "Epoche 5 of 51\n",
            "train Epoch: 5  , Loss: 0.5542,  Accuracy: 81.83\n",
            "val Epoch: 5  , Loss: 0.5990,  Accuracy: 80.51\n",
            "Epoche 6 of 51\n",
            "train Epoch: 6  , Loss: 0.5097,  Accuracy: 83.05\n",
            "val Epoch: 6  , Loss: 0.5845,  Accuracy: 81.54\n",
            "Epoche 7 of 51\n",
            "train Epoch: 7  , Loss: 0.4904,  Accuracy: 84.26\n",
            "val Epoch: 7  , Loss: 0.5558,  Accuracy: 84.10\n",
            "Epoche 8 of 51\n",
            "train Epoch: 8  , Loss: 0.4600,  Accuracy: 86.31\n",
            "val Epoch: 8  , Loss: 0.5457,  Accuracy: 83.85\n",
            "Epoche 9 of 51\n",
            "train Epoch: 9  , Loss: 0.4399,  Accuracy: 86.50\n",
            "val Epoch: 9  , Loss: 0.5193,  Accuracy: 85.90\n",
            "Epoche 10 of 51\n",
            "train Epoch: 10  , Loss: 0.4238,  Accuracy: 87.59\n",
            "val Epoch: 10  , Loss: 0.5287,  Accuracy: 85.64\n",
            "Epoche 11 of 51\n",
            "train Epoch: 11  , Loss: 0.4158,  Accuracy: 88.16\n",
            "val Epoch: 11  , Loss: 0.5057,  Accuracy: 87.44\n",
            "Epoche 12 of 51\n",
            "train Epoch: 12  , Loss: 0.3827,  Accuracy: 89.12\n",
            "val Epoch: 12  , Loss: 0.5094,  Accuracy: 85.90\n",
            "Epoche 13 of 51\n",
            "train Epoch: 13  , Loss: 0.3762,  Accuracy: 89.70\n",
            "val Epoch: 13  , Loss: 0.4812,  Accuracy: 86.15\n",
            "Epoche 14 of 51\n",
            "train Epoch: 14  , Loss: 0.3650,  Accuracy: 90.08\n",
            "val Epoch: 14  , Loss: 0.4841,  Accuracy: 86.41\n",
            "Epoche 15 of 51\n",
            "train Epoch: 15  , Loss: 0.3558,  Accuracy: 90.34\n",
            "val Epoch: 15  , Loss: 0.4880,  Accuracy: 86.15\n",
            "Epoche 16 of 51\n",
            "train Epoch: 16  , Loss: 0.3460,  Accuracy: 90.53\n",
            "val Epoch: 16  , Loss: 0.5079,  Accuracy: 86.67\n",
            "Epoche 17 of 51\n",
            "train Epoch: 17  , Loss: 0.3445,  Accuracy: 90.34\n",
            "val Epoch: 17  , Loss: 0.4741,  Accuracy: 87.18\n",
            "Epoche 18 of 51\n",
            "train Epoch: 18  , Loss: 0.3183,  Accuracy: 91.36\n",
            "val Epoch: 18  , Loss: 0.4775,  Accuracy: 86.15\n",
            "Epoche 19 of 51\n",
            "train Epoch: 19  , Loss: 0.3212,  Accuracy: 90.72\n",
            "val Epoch: 19  , Loss: 0.4692,  Accuracy: 86.92\n",
            "Epoche 20 of 51\n",
            "train Epoch: 20  , Loss: 0.3108,  Accuracy: 91.81\n",
            "val Epoch: 20  , Loss: 0.4677,  Accuracy: 86.41\n",
            "Epoche 21 of 51\n",
            "train Epoch: 21  , Loss: 0.3152,  Accuracy: 91.68\n",
            "val Epoch: 21  , Loss: 0.4638,  Accuracy: 86.41\n",
            "Epoche 22 of 51\n",
            "train Epoch: 22  , Loss: 0.3046,  Accuracy: 91.81\n",
            "val Epoch: 22  , Loss: 0.4692,  Accuracy: 87.18\n",
            "Epoche 23 of 51\n",
            "train Epoch: 23  , Loss: 0.3109,  Accuracy: 91.87\n",
            "val Epoch: 23  , Loss: 0.4659,  Accuracy: 87.18\n",
            "Epoche 24 of 51\n",
            "train Epoch: 24  , Loss: 0.2939,  Accuracy: 92.00\n",
            "val Epoch: 24  , Loss: 0.4569,  Accuracy: 87.44\n",
            "Epoche 25 of 51\n",
            "train Epoch: 25  , Loss: 0.2950,  Accuracy: 91.94\n",
            "val Epoch: 25  , Loss: 0.4690,  Accuracy: 86.67\n",
            "Epoche 26 of 51\n",
            "train Epoch: 26  , Loss: 0.2885,  Accuracy: 92.19\n",
            "val Epoch: 26  , Loss: 0.4553,  Accuracy: 87.18\n",
            "Epoche 27 of 51\n",
            "train Epoch: 27  , Loss: 0.2917,  Accuracy: 92.71\n",
            "val Epoch: 27  , Loss: 0.4472,  Accuracy: 87.95\n",
            "Epoche 28 of 51\n",
            "train Epoch: 28  , Loss: 0.2791,  Accuracy: 92.51\n",
            "val Epoch: 28  , Loss: 0.4565,  Accuracy: 88.46\n",
            "Epoche 29 of 51\n",
            "train Epoch: 29  , Loss: 0.2783,  Accuracy: 92.64\n",
            "val Epoch: 29  , Loss: 0.4740,  Accuracy: 88.46\n",
            "Epoche 30 of 51\n",
            "train Epoch: 30  , Loss: 0.2856,  Accuracy: 92.83\n",
            "val Epoch: 30  , Loss: 0.4636,  Accuracy: 88.46\n",
            "Epoche 31 of 51\n",
            "train Epoch: 31  , Loss: 0.2705,  Accuracy: 93.47\n",
            "val Epoch: 31  , Loss: 0.4592,  Accuracy: 88.21\n",
            "Epoche 32 of 51\n",
            "train Epoch: 32  , Loss: 0.2655,  Accuracy: 93.28\n",
            "val Epoch: 32  , Loss: 0.4514,  Accuracy: 88.46\n",
            "Epoche 33 of 51\n",
            "train Epoch: 33  , Loss: 0.2636,  Accuracy: 93.41\n",
            "val Epoch: 33  , Loss: 0.4585,  Accuracy: 88.46\n",
            "Epoche 34 of 51\n",
            "train Epoch: 34  , Loss: 0.2616,  Accuracy: 93.22\n",
            "val Epoch: 34  , Loss: 0.4421,  Accuracy: 88.46\n",
            "Epoche 35 of 51\n",
            "train Epoch: 35  , Loss: 0.2551,  Accuracy: 93.47\n",
            "val Epoch: 35  , Loss: 0.4525,  Accuracy: 88.21\n",
            "Epoche 36 of 51\n",
            "train Epoch: 36  , Loss: 0.2581,  Accuracy: 93.47\n",
            "val Epoch: 36  , Loss: 0.4627,  Accuracy: 88.46\n",
            "Epoche 37 of 51\n",
            "train Epoch: 37  , Loss: 0.2485,  Accuracy: 93.67\n",
            "val Epoch: 37  , Loss: 0.4575,  Accuracy: 88.46\n",
            "Epoche 38 of 51\n",
            "train Epoch: 38  , Loss: 0.2482,  Accuracy: 93.41\n",
            "val Epoch: 38  , Loss: 0.4417,  Accuracy: 88.97\n",
            "Epoche 39 of 51\n",
            "train Epoch: 39  , Loss: 0.2471,  Accuracy: 93.41\n",
            "val Epoch: 39  , Loss: 0.4532,  Accuracy: 88.46\n",
            "Epoche 40 of 51\n",
            "train Epoch: 40  , Loss: 0.2439,  Accuracy: 93.92\n",
            "val Epoch: 40  , Loss: 0.4585,  Accuracy: 88.46\n",
            "Epoche 41 of 51\n",
            "train Epoch: 41  , Loss: 0.2441,  Accuracy: 93.67\n",
            "val Epoch: 41  , Loss: 0.4426,  Accuracy: 88.72\n",
            "Epoche 42 of 51\n",
            "train Epoch: 42  , Loss: 0.2418,  Accuracy: 93.86\n",
            "val Epoch: 42  , Loss: 0.4511,  Accuracy: 88.72\n",
            "Epoche 43 of 51\n",
            "train Epoch: 43  , Loss: 0.2402,  Accuracy: 93.86\n",
            "val Epoch: 43  , Loss: 0.4626,  Accuracy: 88.97\n",
            "Epoche 44 of 51\n",
            "train Epoch: 44  , Loss: 0.2396,  Accuracy: 93.79\n",
            "val Epoch: 44  , Loss: 0.4792,  Accuracy: 87.69\n",
            "Epoche 45 of 51\n",
            "train Epoch: 45  , Loss: 0.2326,  Accuracy: 94.11\n",
            "val Epoch: 45  , Loss: 0.4536,  Accuracy: 88.72\n",
            "Epoche 46 of 51\n",
            "train Epoch: 46  , Loss: 0.2315,  Accuracy: 93.99\n",
            "val Epoch: 46  , Loss: 0.4553,  Accuracy: 88.46\n",
            "Epoche 47 of 51\n",
            "train Epoch: 47  , Loss: 0.2316,  Accuracy: 94.11\n",
            "val Epoch: 47  , Loss: 0.4522,  Accuracy: 89.23\n",
            "Epoche 48 of 51\n",
            "train Epoch: 48  , Loss: 0.2311,  Accuracy: 94.37\n",
            "val Epoch: 48  , Loss: 0.4630,  Accuracy: 88.46\n",
            "Epoche 49 of 51\n",
            "train Epoch: 49  , Loss: 0.2264,  Accuracy: 94.05\n",
            "val Epoch: 49  , Loss: 0.4727,  Accuracy: 88.97\n",
            "Epoche 50 of 51\n",
            "train Epoch: 50  , Loss: 0.2231,  Accuracy: 94.63\n",
            "val Epoch: 50  , Loss: 0.4755,  Accuracy: 88.97\n"
          ],
          "name": "stdout"
        }
      ]
    },
    {
      "cell_type": "code",
      "metadata": {
        "colab": {
          "base_uri": "https://localhost:8080/",
          "height": 295
        },
        "id": "-gZP0yIV61D8",
        "outputId": "82dcd864-917d-4893-d6ec-69334561628b"
      },
      "source": [
        "epochs = []\n",
        "for i in range(1, num_epochs+1):\n",
        "    epochs.append(i)\n",
        "import matplotlib.pyplot as plt\n",
        "%matplotlib inline\n",
        "# if logger_prefix == 'val':\n",
        "plot1 = plt.plot(epochs, train_loss)\n",
        "# else:\n",
        "plot2 = plt.plot(epochs, val_loss)\n",
        "plt.xlabel(\"Epochs\")\n",
        "plt.ylabel(\"Loss\")\n",
        "plt.title(\"Loss\")\n",
        "plt.legend([\"Training Loss\", \"Validation Loss\"], loc = 1)\n",
        "plt.show()"
      ],
      "execution_count": 15,
      "outputs": [
        {
          "output_type": "display_data",
          "data": {
            "image/png": "[encoded data removed]",
            "text/plain": [
              "<Figure size 432x288 with 1 Axes>"
            ]
          },
          "metadata": {
            "tags": [],
            "needs_background": "light"
          }
        }
      ]
    },
    {
      "cell_type": "code",
      "metadata": {
        "colab": {
          "base_uri": "https://localhost:8080/",
          "height": 295
        },
        "id": "XoILAad066g2",
        "outputId": "843cbe21-e206-4c70-da65-5734f119dfdc"
      },
      "source": [
        "epochs = []\n",
        "for i in range(1, len(train_accuracy)+1):\n",
        "    epochs.append(i)\n",
        "plot3 = plt.plot(epochs, train_accuracy)\n",
        "plot4 = plt.plot(epochs, val_accuracy)\n",
        "plt.xlabel(\"Epochs\")\n",
        "plt.ylabel(\"Accuracy\")\n",
        "plt.title(\"Accuracy\")\n",
        "plt.legend([\"Training Accuracy\", \"Validation Accuracy\"], loc = 1)\n",
        "plt.show()"
      ],
      "execution_count": 16,
      "outputs": [
        {
          "output_type": "display_data",
          "data": {
            "image/png": "[encoded data removed]",
            "text/plain": [
              "<Figure size 432x288 with 1 Axes>"
            ]
          },
          "metadata": {
            "tags": [],
            "needs_background": "light"
          }
        }
      ]
    },
    {
      "cell_type": "markdown",
      "metadata": {
        "id": "atn3IaZM7AKs"
      },
      "source": [
        ""
      ]
    },
    {
      "cell_type": "code",
      "metadata": {
        "colab": {
          "base_uri": "https://localhost:8080/"
        },
        "id": "L8JdkveX6-qK",
        "outputId": "6c3a508b-480f-4fab-b5c7-c9200d33fb31"
      },
      "source": [
        "\n",
        "# Use your best model to generate results on test set.\n",
        "\n",
        "# generate csv file for test set\n",
        "def predict_on_test(model, data_loader):\n",
        "    model.eval() # Put the model in test mode (the opposite of model.train(), essentially)\n",
        "    results=open(\"results.csv\",'w')\n",
        "    count=0\n",
        "    results.write('Id'+','+'Class'+'\\n')\n",
        "    for batch_idx, sample in enumerate(data_loader):\n",
        "        sequence = sample['seq']\n",
        "        input_sequence_var = Variable(sequence).type(FloatTensor)\n",
        "        scores = model(input_sequence_var)\n",
        "        _, preds = scores.data.max(1)\n",
        "        for i in range(len(preds)):\n",
        "            results.write(str(count)+','+str(preds[i])+'\\n')\n",
        "            count+=1\n",
        "    results.close()\n",
        "    return count\n",
        "\n",
        "count = predict_on_test(model, valLD)\n",
        "print(count)\n"
      ],
      "execution_count": 17,
      "outputs": [
        {
          "output_type": "stream",
          "text": [
            "390\n"
          ],
          "name": "stdout"
        }
      ]
    },
    {
      "cell_type": "markdown",
      "metadata": {
        "id": "V7t6IwiuZMAo"
      },
      "source": [
        "\n"
      ]
    },
    {
      "cell_type": "code",
      "metadata": {
        "id": "QlI7zJyKeReW",
        "outputId": "143f4762-cf41-4343-c167-1542c9ed099f",
        "colab": {
          "base_uri": "https://localhost:8080/",
          "height": 279
        }
      },
      "source": [
        ""
      ],
      "execution_count": 21,
      "outputs": [
        {
          "output_type": "stream",
          "text": [
            "use cuda: True\n",
            "/content/cloned-repo/mi_seminar_uebung/mi_seminar_uebung/./tmp//lukas_f_squat_1.mp4_rotated.avi\n",
            "/content/cloned-repo/mi_seminar_uebung/mi_seminar_uebung/data_aufnahme_json/lukas_f_squat_1.mp4_rotated_json/lukas_f_squat_1.mp4_rotated.avi.avi\n"
          ],
          "name": "stdout"
        },
        {
          "output_type": "error",
          "ename": "TypeError",
          "evalue": "ignored",
          "traceback": [
            "\u001b[0;31m---------------------------------------------------------------------------\u001b[0m",
            "\u001b[0;31mTypeError\u001b[0m                                 Traceback (most recent call last)",
            "\u001b[0;32m<ipython-input-21-e2e1cfa08ea4>\u001b[0m in \u001b[0;36m<module>\u001b[0;34m()\u001b[0m\n\u001b[1;32m     88\u001b[0m \u001b[0mfilename\u001b[0m \u001b[0;34m=\u001b[0m \u001b[0;34m'lukas_f_squat_1.mp4_rotated.avi'\u001b[0m\u001b[0;34m\u001b[0m\u001b[0;34m\u001b[0m\u001b[0m\n\u001b[1;32m     89\u001b[0m \u001b[0mpath\u001b[0m \u001b[0;34m=\u001b[0m \u001b[0;34m'./tmp/'\u001b[0m\u001b[0;34m\u001b[0m\u001b[0;34m\u001b[0m\u001b[0m\n\u001b[0;32m---> 90\u001b[0;31m \u001b[0mmp4_file\u001b[0m\u001b[0;34m,\u001b[0m \u001b[0mjson_folder\u001b[0m \u001b[0;34m=\u001b[0m \u001b[0mcreate_json_and_mp4\u001b[0m\u001b[0;34m(\u001b[0m\u001b[0mfilename\u001b[0m\u001b[0;34m,\u001b[0m \u001b[0mpath\u001b[0m\u001b[0;34m)\u001b[0m\u001b[0;34m\u001b[0m\u001b[0;34m\u001b[0m\u001b[0m\n\u001b[0m\u001b[1;32m     91\u001b[0m \u001b[0mname_labels\u001b[0m \u001b[0;34m=\u001b[0m \u001b[0;34m[\u001b[0m\u001b[0;34m]\u001b[0m\u001b[0;34m\u001b[0m\u001b[0;34m\u001b[0m\u001b[0m\n\u001b[1;32m     92\u001b[0m \u001b[0mlabels\u001b[0m \u001b[0;34m=\u001b[0m \u001b[0;34m[\u001b[0m\u001b[0;34m]\u001b[0m\u001b[0;34m\u001b[0m\u001b[0;34m\u001b[0m\u001b[0m\n",
            "\u001b[0;31mTypeError\u001b[0m: cannot unpack non-iterable NoneType object"
          ]
        }
      ]
    },
    {
      "cell_type": "markdown",
      "metadata": {
        "id": "n5L3Z5YVrZ2R"
      },
      "source": [
        "## Detect poses on a test video\n",
        "\n",
        "We are going to detect poses on the following youtube video:"
      ]
    },
    {
      "cell_type": "code",
      "metadata": {
        "id": "xIt-eyIDO6XG",
        "colab": {
          "base_uri": "https://localhost:8080/",
          "height": 321
        },
        "outputId": "e12f80eb-a07e-4d68-c9ed-b79fdd6eeea9"
      },
      "source": [
        "from IPython.display import YouTubeVideo\n",
        "YOUTUBE_ID = 'HeolReSa5ic'\n",
        "\n",
        "\n",
        "YouTubeVideo(YOUTUBE_ID)"
      ],
      "execution_count": 34,
      "outputs": [
        {
          "output_type": "execute_result",
          "data": {
            "text/html": [
              "\n",
              "        <iframe\n",
              "            width=\"400\"\n",
              "            height=\"300\"\n",
              "            src=\"https://www.youtube.com/embed/HeolReSa5ic\"\n",
              "            frameborder=\"0\"\n",
              "            allowfullscreen\n",
              "        ></iframe>\n",
              "        "
            ],
            "text/plain": [
              "<IPython.lib.display.YouTubeVideo at 0x7f9af32fff50>"
            ],
            "image/jpeg": "[encoded data removed]"
          },
          "metadata": {
            "tags": []
          },
          "execution_count": 34
        }
      ]
    },
    {
      "cell_type": "markdown",
      "metadata": {
        "id": "Kn08K-3bp-W9"
      },
      "source": [
        "Download the above youtube video, remove the first 15 seconds and do the pose detection on the next 5 seconds:"
      ]
    },
    {
      "cell_type": "code",
      "metadata": {
        "id": "oNASdyyiO65I",
        "colab": {
          "base_uri": "https://localhost:8080/"
        },
        "outputId": "6385c468-21ef-4de7-f656-af3d4c509e3c"
      },
      "source": [
        "!rm -rf ./temp/youtube.mp4\n",
        "# download the youtube with the given ID\n",
        "!youtube-dl -f 'bestvideo[ext=mp4]' --output \"./temp/youtube.%(ext)s\" https://www.youtube.com/watch?v=$YOUTUBE_ID\n",
        "# cut the seconds between 15 and 20\n",
        "!ffmpeg -y -loglevel info  -i ./temp/youtube.mp4 -ss 00:12:10 -t 00:12:12 -c:v copy -c:a copy ./temp/video.mp4\n",
        "# detect poses on the these 5 seconds\n"
      ],
      "execution_count": 36,
      "outputs": [
        {
          "output_type": "stream",
          "text": [
            "[youtube] HeolReSa5ic: Downloading webpage\n",
            "[download] Destination: ./temp/youtube.mp4\n",
            "\u001b[K[download] 100% of 72.67MiB in 00:01\n",
            "ffmpeg version 3.4.8-0ubuntu0.2 Copyright (c) 2000-2020 the FFmpeg developers\n",
            "  built with gcc 7 (Ubuntu 7.5.0-3ubuntu1~18.04)\n",
            "  configuration: --prefix=/usr --extra-version=0ubuntu0.2 --toolchain=hardened --libdir=/usr/lib/x86_64-linux-gnu --incdir=/usr/include/x86_64-linux-gnu --enable-gpl --disable-stripping --enable-avresample --enable-avisynth --enable-gnutls --enable-ladspa --enable-libass --enable-libbluray --enable-libbs2b --enable-libcaca --enable-libcdio --enable-libflite --enable-libfontconfig --enable-libfreetype --enable-libfribidi --enable-libgme --enable-libgsm --enable-libmp3lame --enable-libmysofa --enable-libopenjpeg --enable-libopenmpt --enable-libopus --enable-libpulse --enable-librubberband --enable-librsvg --enable-libshine --enable-libsnappy --enable-libsoxr --enable-libspeex --enable-libssh --enable-libtheora --enable-libtwolame --enable-libvorbis --enable-libvpx --enable-libwavpack --enable-libwebp --enable-libx265 --enable-libxml2 --enable-libxvid --enable-libzmq --enable-libzvbi --enable-omx --enable-openal --enable-opengl --enable-sdl2 --enable-libdc1394 --enable-libdrm --enable-libiec61883 --enable-chromaprint --enable-frei0r --enable-libopencv --enable-libx264 --enable-shared\n",
            "  libavutil      55. 78.100 / 55. 78.100\n",
            "  libavcodec     57.107.100 / 57.107.100\n",
            "  libavformat    57. 83.100 / 57. 83.100\n",
            "  libavdevice    57. 10.100 / 57. 10.100\n",
            "  libavfilter     6.107.100 /  6.107.100\n",
            "  libavresample   3.  7.  0 /  3.  7.  0\n",
            "  libswscale      4.  8.100 /  4.  8.100\n",
            "  libswresample   2.  9.100 /  2.  9.100\n",
            "  libpostproc    54.  7.100 / 54.  7.100\n",
            "Input #0, mov,mp4,m4a,3gp,3g2,mj2, from './temp/youtube.mp4':\n",
            "  Metadata:\n",
            "    major_brand     : dash\n",
            "    minor_version   : 0\n",
            "    compatible_brands: iso6av01mp41\n",
            "    creation_time   : 2021-02-24T10:52:05.000000Z\n",
            "  Duration: 00:20:49.32, start: 0.000000, bitrate: 487 kb/s\n",
            "    Stream #0:0(und): Video: av1 (av01 / 0x31307661), none(tv, bt709), 1920x1080, 0 kb/s, 25 fps, 25 tbr, 12800 tbn, 12800 tbc (default)\n",
            "    Metadata:\n",
            "      creation_time   : 2021-02-24T10:52:05.000000Z\n",
            "      handler_name    : ISO Media file produced by Google Inc.\n",
            "Output #0, mp4, to './temp/video.mp4':\n",
            "  Metadata:\n",
            "    major_brand     : dash\n",
            "    minor_version   : 0\n",
            "    compatible_brands: iso6av01mp41\n",
            "    encoder         : Lavf57.83.100\n",
            "    Stream #0:0(und): Video: av1 (av01 / 0x31307661), none(tv, bt709), 1920x1080, q=2-31, 0 kb/s, 25 fps, 25 tbr, 12800 tbn, 12800 tbc (default)\n",
            "    Metadata:\n",
            "      creation_time   : 2021-02-24T10:52:05.000000Z\n",
            "      handler_name    : ISO Media file produced by Google Inc.\n",
            "Stream mapping:\n",
            "  Stream #0:0 -> #0:0 (copy)\n",
            "Press [q] to stop, [?] for help\n",
            "frame=12873 fps=0.0 q=-1.0 Lsize=   28059kB time=00:08:39.28 bitrate= 442.7kbits/s speed=4.01e+03x    \n",
            "video:28008kB audio:0kB subtitle:0kB other streams:0kB global headers:0kB muxing overhead: 0.185180%\n"
          ],
          "name": "stdout"
        }
      ]
    },
    {
      "cell_type": "code",
      "metadata": {
        "id": "zrgyLn6EJwOk"
      },
      "source": [
        "def show_local_mp4_video(file_name, width=640, height=480):\n",
        "  import io\n",
        "  import base64\n",
        "  from IPython.display import HTML\n",
        "  video_encoded = base64.b64encode(io.open(file_name, 'rb').read())\n",
        "  return HTML(data='''<video width=\"{0}\" height=\"{1}\" alt=\"test\" controls>\n",
        "                        <source src=\"data:video/mp4;base64,{2}\" type=\"video/mp4\" />\n",
        "                      </video>'''.format(width, height, video_encoded.decode('ascii')))\n",
        "\n",
        "show_local_mp4_video('./temp/youtube.mp4', width=960, height=720)\n"
      ],
      "execution_count": 38,
      "outputs": []
    },
    {
      "cell_type": "code",
      "metadata": {
        "id": "0PZBtlBmIFMk"
      },
      "source": [
        "\n",
        "!rm openpose.avi\n",
        "!cd openpose && ./build/examples/openpose/openpose.bin --video ~/temp/video.mp4 --write_json ~/output/ --display 0 --write_video ~/openpose.avi --face --hand\n",
        "# convert the result into MP4\n",
        "!ffmpeg -y -loglevel info -i openpose.avi output.mp4"
      ],
      "execution_count": null,
      "outputs": []
    },
    {
      "cell_type": "code",
      "metadata": {
        "id": "QMeHvFafn09m"
      },
      "source": [
        "import numpy as np\n",
        "\n",
        "import torch\n",
        "import torch.nn as nn\n",
        "from torch.autograd import Variable\n",
        "import torch.utils.data as DD\n",
        "from extract_features import create_json_and_mp4\n",
        "from helper import ReadFromVideo, VideoWriter, ImageDisplayer, draw_scores_onto_image\n",
        "from preprocessing import preapareDataOfFolder\n",
        "\n",
        "\n",
        "class Dataset(DD.Dataset):\n",
        "    # subset can be: 'train', 'val', 'test'\n",
        "    def __init__(self, data):\n",
        "        super(Dataset, self).__init__()\n",
        "\n",
        "        self.data = np.array(data)\n",
        "        self.num_sequences = self.data.shape[0]\n",
        "        self.seq_len = self.data.shape[1]\n",
        "        self.n_dim = self.data.shape[2]\n",
        "\n",
        "    def __getitem__(self, index):\n",
        "        seq = self.data[index]\n",
        "        return seq\n",
        "\n",
        "    def __len__(self):\n",
        "        return self.num_sequences\n",
        "\n",
        "\n",
        "num_class = 4\n",
        "\n",
        "\n",
        "class Flatten(nn.Module):\n",
        "    def forward(self, x):\n",
        "        N, C, H, W = x.size()  # read in N, C, H, W\n",
        "        return x.view(N, -1)\n",
        "\n",
        "\n",
        "import torchvision.models.inception as inception\n",
        "\n",
        "\n",
        "class SequenceClassify(nn.Module):\n",
        "    def __init__(self, dim, batch_size):\n",
        "        super(SequenceClassify, self).__init__()\n",
        "        self.convolution = nn.Sequential(\n",
        "            nn.Conv2d(1, dim, kernel_size=(3, 5), stride=(1, 1)),\n",
        "            nn.MaxPool2d(2, stride=2),\n",
        "            nn.LeakyReLU(negative_slope=0.4),\n",
        "            nn.BatchNorm2d(dim),\n",
        "            inception.InceptionA(dim, 75),\n",
        "            nn.Conv2d(299, 75, stride=1, kernel_size=2),\n",
        "            nn.MaxPool2d(kernel_size=2),\n",
        "            nn.LeakyReLU(negative_slope=0.3),\n",
        "            nn.BatchNorm2d(75),\n",
        "            inception.InceptionA(75, 20),\n",
        "            Flatten(),\n",
        "            nn.Linear(int(21960 / (5)), batch_size)\n",
        "        )\n",
        "        self.recurrent_layer = nn.LSTM(45, 256, 1)\n",
        "        self.project_layer = nn.Linear(256, num_class)\n",
        "        ###################################################\n",
        "\n",
        "\n",
        "    def forward(self, input1, h_t_1=None, c_t_1=None):\n",
        "        lstm_input = input1\n",
        "        rnn_outputs, (hn, cn) = self.recurrent_layer(lstm_input)\n",
        "        logits = self.project_layer(rnn_outputs[:, -1])\n",
        "        return logits\n",
        "\n",
        "\n",
        "PATH = \"./model.pth\"\n",
        "\n",
        "use_cuda = torch.cuda.is_available()\n",
        "# use_cuda = False\n",
        "print('use cuda: %s' % (use_cuda))\n",
        "FloatTensor = torch.cuda.FloatTensor if use_cuda else torch.FloatTensor\n",
        "LongTensor = torch.cuda.LongTensor if use_cuda else torch.LongTensor\n",
        "ByteTensor = torch.cuda.ByteTensor if use_cuda else torch.ByteTensor\n",
        "\n",
        "batch_size = 15\n",
        "dim = 675\n",
        "model = SequenceClassify(dim, batch_size)\n",
        "if use_cuda:\n",
        "    model.cuda()\n",
        "model.load_state_dict(torch.load(PATH))\n",
        "model.eval()\n",
        "\n",
        "filename = 'lukas_f_squat_1.mp4_rotated.avi'\n",
        "path = './tmp/'\n",
        "mp4_file, json_folder = create_json_and_mp4(filename, path)\n",
        "name_labels = []\n",
        "labels = []\n",
        "label_list = ['squat', 'pushup', 'simple', 'jumping']\n",
        "name_label_list = []\n",
        "result = []\n",
        "name_labels, labels, label_list, name_label_list, result = preapareDataOfFolder(json_folder, name_labels, labels,\n",
        "                                                                                label_list, name_label_list, result)\n",
        "\n",
        "dataset = Dataset(result)\n",
        "data_loader = torch.utils.data.DataLoader(dataset, batch_size=batch_size)\n",
        "\n",
        "images_loader = ReadFromVideo(mp4_file)\n",
        "img_displayer = ImageDisplayer()\n",
        "\n",
        "DST_FOLDER = './tmp/created/'\n",
        "DST_VIDEO_NAME = filename\n",
        "DST_VIDEO_FPS = images_loader.get_fps()\n",
        "\n",
        "video_writer = VideoWriter(DST_FOLDER + DST_VIDEO_NAME, DST_VIDEO_FPS)\n",
        "\n",
        "all_scores = []\n",
        "for batch_idx, sample in enumerate(data_loader):\n",
        "    input_sequence_var = Variable(sample).type(FloatTensor)\n",
        "    scores = model(input_sequence_var)\n",
        "    sm = torch.nn.Softmax(dim=1)\n",
        "    probabilities = sm(scores)\n",
        "    all_scores.append(probabilities)\n",
        "\n",
        "try:\n",
        "    ith_img = -1\n",
        "    while images_loader.has_image():\n",
        "        # -- Read image\n",
        "        img = images_loader.read_image()\n",
        "        ith_img += 1\n",
        "        img_disp = img.copy()\n",
        "        print(f\"\\nProcessing {ith_img}th image ...\")\n",
        "        draw_scores_onto_image(img_disp, all_scores[int(ith_img / (DST_VIDEO_FPS * batch_size))][\n",
        "            int(ith_img / DST_VIDEO_FPS) % 15],\n",
        "                               label_list)\n",
        "\n",
        "        # -- Display image, and write to video.avi\n",
        "        img_displayer.display(img_disp, wait_key_ms=1)\n",
        "        video_writer.write(img_disp)\n",
        "\n",
        "finally:\n",
        "    video_writer.stop()\n",
        "    print(\"Program ends\")"
      ],
      "execution_count": null,
      "outputs": []
    },
    {
      "cell_type": "markdown",
      "metadata": {
        "id": "kDDkgCCSrFTv"
      },
      "source": [
        "Finally, visualize the result:"
      ]
    },
    {
      "cell_type": "code",
      "metadata": {
        "id": "nZ3Ud9zLgOoQ"
      },
      "source": [
        "def show_local_mp4_video(file_name, width=640, height=480):\n",
        "  import io\n",
        "  import base64\n",
        "  from IPython.display import HTML\n",
        "  video_encoded = base64.b64encode(io.open(file_name, 'rb').read())\n",
        "  return HTML(data='''<video width=\"{0}\" height=\"{1}\" alt=\"test\" controls>\n",
        "                        <source src=\"data:video/mp4;base64,{2}\" type=\"video/mp4\" />\n",
        "                      </video>'''.format(width, height, video_encoded.decode('ascii')))\n",
        "\n",
        "show_local_mp4_video('output.mp4', width=960, height=720)"
      ],
      "execution_count": null,
      "outputs": []
    }
  ]
}