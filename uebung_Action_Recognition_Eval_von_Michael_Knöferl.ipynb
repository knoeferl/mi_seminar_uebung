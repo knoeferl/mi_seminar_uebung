{
  "nbformat": 4,
  "nbformat_minor": 0,
  "metadata": {
    "colab": {
      "name": "uebung Action Recognition von Michael Knöferl",
      "provenance": [],
      "collapsed_sections": [],
      "toc_visible": true,
      "include_colab_link": true
    },
    "kernelspec": {
      "name": "python3",
      "display_name": "Python 3"
    },
    "accelerator": "GPU"
  },
  "cells": [
    {
      "cell_type": "markdown",
      "metadata": {
        "id": "view-in-github",
        "colab_type": "text"
      },
      "source": [
        "<a href=\"https://colab.research.google.com/github/knoeferl/mi_seminar_uebung/blob/main/uebung_Action_Recognition_Eval_von_Michael_Kn%C3%B6ferl.ipynb\" target=\"_parent\"><img src=\"https://colab.research.google.com/assets/colab-badge.svg\" alt=\"Open In Colab\"/></a>"
      ]
    },
    {
      "cell_type": "markdown",
      "metadata": {
        "id": "X38L6tanrnrB"
      },
      "source": [
        "# Übung Action Recognition mit LSTM von Michael Knöferl\n",
        "\n",
        "In folgender Übung sollt ihr die Inhalte aus des Vortargs selbst nachstellen können.\n",
        "\n"
      ]
    },
    {
      "cell_type": "markdown",
      "metadata": {
        "id": "sH2d6fhvJJU0"
      },
      "source": [
        "Install OpenPose"
      ]
    },
    {
      "cell_type": "code",
      "metadata": {
        "id": "FOdkDhb6ga6N"
      },
      "source": [
        "import os\n",
        "from os.path import exists, join, basename, splitext\n",
        "from IPython.display import clear_output\n",
        "\n",
        "git_repo_url = 'https://github.com/CMU-Perceptual-Computing-Lab/openpose.git'\n",
        "project_name = splitext(basename(git_repo_url))[0]\n",
        "if not exists(project_name):\n",
        "  # see: https://github.com/CMU-Perceptual-Computing-Lab/openpose/issues/949\n",
        "  # install new CMake becaue of CUDA10\n",
        "  !wget -q https://cmake.org/files/v3.13/cmake-3.13.0-Linux-x86_64.tar.gz\n",
        "  !tar xfz cmake-3.13.0-Linux-x86_64.tar.gz --strip-components=1 -C /usr/local\n",
        "  # clone openpose\n",
        "  !git clone -q --depth 1 $git_repo_url\n",
        "  !sed -i 's/execute_process(COMMAND git checkout master WORKING_DIRECTORY ${CMAKE_SOURCE_DIR}\\/3rdparty\\/caffe)/execute_process(COMMAND git checkout f019d0dfe86f49d1140961f8c7dec22130c83154 WORKING_DIRECTORY ${CMAKE_SOURCE_DIR}\\/3rdparty\\/caffe)/g' openpose/CMakeLists.txt\n",
        "  # install system dependencies\n",
        "  !apt-get -qq install -y libatlas-base-dev libprotobuf-dev libleveldb-dev libsnappy-dev libhdf5-serial-dev protobuf-compiler libgflags-dev libgoogle-glog-dev liblmdb-dev opencl-headers ocl-icd-opencl-dev libviennacl-dev\n",
        "  # install python dependencies\n",
        "  !pip install -q youtube-dl\n",
        "  # build openpose\n",
        "  !cd openpose && rm -rf build || true && mkdir build && cd build && cmake .. && make -j`nproc`\n",
        "  \n",
        "clear_output()\n"
      ],
      "execution_count": null,
      "outputs": []
    },
    {
      "cell_type": "code",
      "metadata": {
        "colab": {
          "base_uri": "https://localhost:8080/"
        },
        "id": "VRpTLhRs_RTs",
        "outputId": "2d1b9de8-a2bc-4611-fbb2-022b429bf11c"
      },
      "source": [
        "!pip3 install torch torchvision\n",
        "!pip3 install torchnet\n",
        "clear_output()"
      ],
      "execution_count": null,
      "outputs": [
        {
          "output_type": "stream",
          "text": [
            "Requirement already satisfied: torch in /usr/local/lib/python3.7/dist-packages (1.8.1+cu101)\n",
            "Requirement already satisfied: torchvision in /usr/local/lib/python3.7/dist-packages (0.9.1+cu101)\n",
            "Requirement already satisfied: typing-extensions in /usr/local/lib/python3.7/dist-packages (from torch) (3.7.4.3)\n",
            "Requirement already satisfied: numpy in /usr/local/lib/python3.7/dist-packages (from torch) (1.19.5)\n",
            "Requirement already satisfied: pillow>=4.1.1 in /usr/local/lib/python3.7/dist-packages (from torchvision) (7.1.2)\n",
            "Collecting torchnet\n",
            "  Downloading https://files.pythonhosted.org/packages/b7/b2/d7f70a85d3f6b0365517782632f150e3bbc2fb8e998cd69e27deba599aae/torchnet-0.0.4.tar.gz\n",
            "Requirement already satisfied: torch in /usr/local/lib/python3.7/dist-packages (from torchnet) (1.8.1+cu101)\n",
            "Requirement already satisfied: six in /usr/local/lib/python3.7/dist-packages (from torchnet) (1.15.0)\n",
            "Collecting visdom\n",
            "\u001b[?25l  Downloading https://files.pythonhosted.org/packages/c9/75/e078f5a2e1df7e0d3044749089fc2823e62d029cc027ed8ae5d71fafcbdc/visdom-0.1.8.9.tar.gz (676kB)\n",
            "\u001b[K     |████████████████████████████████| 686kB 21.9MB/s \n",
            "\u001b[?25hRequirement already satisfied: numpy in /usr/local/lib/python3.7/dist-packages (from torch->torchnet) (1.19.5)\n",
            "Requirement already satisfied: typing-extensions in /usr/local/lib/python3.7/dist-packages (from torch->torchnet) (3.7.4.3)\n",
            "Requirement already satisfied: scipy in /usr/local/lib/python3.7/dist-packages (from visdom->torchnet) (1.4.1)\n",
            "Requirement already satisfied: requests in /usr/local/lib/python3.7/dist-packages (from visdom->torchnet) (2.23.0)\n",
            "Requirement already satisfied: tornado in /usr/local/lib/python3.7/dist-packages (from visdom->torchnet) (5.1.1)\n",
            "Requirement already satisfied: pyzmq in /usr/local/lib/python3.7/dist-packages (from visdom->torchnet) (22.0.3)\n",
            "Collecting jsonpatch\n",
            "  Downloading https://files.pythonhosted.org/packages/a3/55/f7c93bae36d869292aedfbcbae8b091386194874f16390d680136edd2b28/jsonpatch-1.32-py2.py3-none-any.whl\n",
            "Collecting torchfile\n",
            "  Downloading https://files.pythonhosted.org/packages/91/af/5b305f86f2d218091af657ddb53f984ecbd9518ca9fe8ef4103a007252c9/torchfile-0.1.0.tar.gz\n",
            "Collecting websocket-client\n",
            "\u001b[?25l  Downloading https://files.pythonhosted.org/packages/85/ee/7aa724dc2dbed9b028f463eada5482770c13b7381a0c79457d12b3b62de2/websocket_client-1.0.1-py2.py3-none-any.whl (68kB)\n",
            "\u001b[K     |████████████████████████████████| 71kB 11.9MB/s \n",
            "\u001b[?25hRequirement already satisfied: pillow in /usr/local/lib/python3.7/dist-packages (from visdom->torchnet) (7.1.2)\n",
            "Requirement already satisfied: urllib3!=1.25.0,!=1.25.1,<1.26,>=1.21.1 in /usr/local/lib/python3.7/dist-packages (from requests->visdom->torchnet) (1.24.3)\n",
            "Requirement already satisfied: chardet<4,>=3.0.2 in /usr/local/lib/python3.7/dist-packages (from requests->visdom->torchnet) (3.0.4)\n",
            "Requirement already satisfied: idna<3,>=2.5 in /usr/local/lib/python3.7/dist-packages (from requests->visdom->torchnet) (2.10)\n",
            "Requirement already satisfied: certifi>=2017.4.17 in /usr/local/lib/python3.7/dist-packages (from requests->visdom->torchnet) (2020.12.5)\n",
            "Collecting jsonpointer>=1.9\n",
            "  Downloading https://files.pythonhosted.org/packages/23/52/05f67532aa922e494c351344e0d9624a01f74f5dd8402fe0d1b563a6e6fc/jsonpointer-2.1-py2.py3-none-any.whl\n",
            "Building wheels for collected packages: torchnet, visdom, torchfile\n",
            "  Building wheel for torchnet (setup.py) ... \u001b[?25l\u001b[?25hdone\n",
            "  Created wheel for torchnet: filename=torchnet-0.0.4-cp37-none-any.whl size=29743 sha256=94c6a38edf358111a81c587458a00064a93263934ac682a02b020070c1bd30a4\n",
            "  Stored in directory: /root/.cache/pip/wheels/e1/03/fb/1c212c2f20905cdf97fe39022946cf16b8e66ed754a6663400\n",
            "  Building wheel for visdom (setup.py) ... \u001b[?25l\u001b[?25hdone\n",
            "  Created wheel for visdom: filename=visdom-0.1.8.9-cp37-none-any.whl size=655251 sha256=a370f8f50581a5f56eb4f278cf2b742d678440bd4dec5158c9b2776f4514ca73\n",
            "  Stored in directory: /root/.cache/pip/wheels/70/19/a7/6d589ed967f4dfefd33bc166d081257bd4ed0cb618dccfd62a\n",
            "  Building wheel for torchfile (setup.py) ... \u001b[?25l\u001b[?25hdone\n",
            "  Created wheel for torchfile: filename=torchfile-0.1.0-cp37-none-any.whl size=5712 sha256=a37ba2ea41766cbc91194fbea327dbd19b705cef324ec66f6dc6e237bc1b4f30\n",
            "  Stored in directory: /root/.cache/pip/wheels/b1/c3/d6/9a1cc8f3a99a0fc1124cae20153f36af59a6e683daca0a0814\n",
            "Successfully built torchnet visdom torchfile\n",
            "Installing collected packages: jsonpointer, jsonpatch, torchfile, websocket-client, visdom, torchnet\n",
            "Successfully installed jsonpatch-1.32 jsonpointer-2.1 torchfile-0.1.0 torchnet-0.0.4 visdom-0.1.8.9 websocket-client-1.0.1\n"
          ],
          "name": "stdout"
        }
      ]
    },
    {
      "cell_type": "markdown",
      "metadata": {
        "id": "kLMSLYJRLgJk"
      },
      "source": [
        "Download Dataset and Trained Model"
      ]
    },
    {
      "cell_type": "code",
      "metadata": {
        "id": "hjiLlEX4ai0K"
      },
      "source": [
        "from IPython.display import clear_output\n",
        "\n",
        "!wget --no-check-certificate 'https://docs.google.com/uc?export=download&id=1Cq-kw9XDiPYURfTS14FUE8lo0ka4HR-k' -O mydataset.h5\n",
        "!wget --no-check-certificate 'https://docs.google.com/uc?export=download&id=19lihi0IJvudkd6816z5nudfyaEBpOwf1' -O model.pth\n",
        "\n",
        "clear_output()"
      ],
      "execution_count": null,
      "outputs": []
    },
    {
      "cell_type": "markdown",
      "metadata": {
        "id": "sW055FSHKOsm"
      },
      "source": [
        ""
      ]
    },
    {
      "cell_type": "code",
      "metadata": {
        "colab": {
          "base_uri": "https://localhost:8080/"
        },
        "id": "IIPMHjKqCyfK",
        "outputId": "8e3ab2b2-cfdb-4717-f8b8-51ea9f303b47"
      },
      "source": [
        "import os\n",
        "import numpy as np\n",
        "import h5py\n",
        "\n",
        "import torch\n",
        "import torch.nn as nn\n",
        "from torch.autograd import Variable\n",
        "import torch.utils.data as DD\n",
        "import torchnet as tnt\n",
        "from torchvision import datasets\n",
        "from torchvision import transforms\n",
        "from torch.utils.data.sampler import SubsetRandomSampler\n",
        "import pandas as pd\n",
        "\n",
        "os.environ['CUDA_LAUNCH_BLOCKING'] = \"1\"\n",
        "use_cuda = torch.cuda.is_available()\n",
        "print('use cuda: %s'%(use_cuda))\n",
        "FloatTensor = torch.cuda.FloatTensor if use_cuda else torch.FloatTensor\n",
        "LongTensor = torch.cuda.LongTensor if use_cuda else torch.LongTensor\n",
        "ByteTensor = torch.cuda.ByteTensor if use_cuda else torch.ByteTensor\n",
        "import torchvision.models.inception as inception\n",
        "\n"
      ],
      "execution_count": null,
      "outputs": [
        {
          "output_type": "stream",
          "text": [
            "use cuda: True\n"
          ],
          "name": "stdout"
        }
      ]
    },
    {
      "cell_type": "markdown",
      "metadata": {
        "id": "BRJlwSA55wlC"
      },
      "source": [
        "\n",
        "###Datensatz\n",
        "Wie im Vortrag erwähnt besteht der Datensatz das die bereits mit Openpose vor verarbeitet wurden und die entsprechenden Features wurde bereits extrahiert.\n",
        "\n",
        "Es sind 3 Features pro Bild für 15 Bilder und wir laden immer 15 Stück als ein Batch ein.\n",
        "\n",
        "Beim Laden werden die Daten gleich in einen Trainings- und einen Validierungsdatensatz aufgeteilt"
      ]
    },
    {
      "cell_type": "code",
      "metadata": {
        "id": "VCF9-mJJ59rM"
      },
      "source": [
        "class Dataset(DD.Dataset):\n",
        "    # subset can be: 'train', 'val', 'test'\n",
        "    def __init__(self, data_path, name='dataset'):\n",
        "        super(Dataset, self).__init__()\n",
        "        self.data_path = os.path.join(data_path, '%s.h5'%name)\n",
        "\n",
        "        with h5py.File(self.data_path) as f:\n",
        "            self.data = np.array(f['seq'])\n",
        "            self.label = np.array(f['label'])\n",
        "\n",
        "        self.num_sequences = self.data.shape[0]\n",
        "        self.seq_len = self.data.shape[1]\n",
        "        self.n_dim = self.data.shape[2]\n",
        "\n",
        "    def __getitem__(self, index):\n",
        "        seq = self.data[index]\n",
        "        label = int(self.label[index])\n",
        "        sample = {'seq': seq, 'label': label}\n",
        "        return sample\n",
        "\n",
        "\n",
        "    def __len__(self):\n",
        "        return self.num_sequences\n",
        "\n",
        "\n",
        "\n",
        "\n",
        "dataset = Dataset('./', name='mydataset')\n",
        "batch_size = 15\n",
        "validation_split = .2\n",
        "shuffle_dataset = True\n",
        "random_seed= 42\n",
        "\n",
        "\n",
        "dataset_size = len(dataset)\n",
        "indices = list(range(dataset_size))\n",
        "split = int(np.floor(validation_split * dataset_size))\n",
        "if shuffle_dataset :\n",
        "    np.random.seed(random_seed)\n",
        "    np.random.shuffle(indices)\n",
        "train_indices, val_indices = indices[split:], indices[:split]\n",
        "\n",
        "train_sampler = SubsetRandomSampler(train_indices)\n",
        "valid_sampler = SubsetRandomSampler(val_indices)\n",
        "\n",
        "trLD = torch.utils.data.DataLoader(dataset, batch_size=batch_size,\n",
        "                                           sampler=train_sampler)\n",
        "valLD = torch.utils.data.DataLoader(dataset, batch_size=batch_size,\n",
        "                                                sampler=valid_sampler)\n",
        "input_dim = dataset.n_dim\n",
        "\n",
        "num_class = 4\n",
        "dim = batch_size * dataset.n_dim"
      ],
      "execution_count": null,
      "outputs": []
    },
    {
      "cell_type": "markdown",
      "metadata": {
        "id": "-PeHFvaFFO6U"
      },
      "source": [
        "##Anzahl der Features"
      ]
    },
    {
      "cell_type": "code",
      "metadata": {
        "colab": {
          "base_uri": "https://localhost:8080/"
        },
        "id": "VSG1PUz16SUS",
        "outputId": "18f6e09a-b335-4427-b018-ef1e53328c31"
      },
      "source": [
        "print(dataset.n_dim)"
      ],
      "execution_count": null,
      "outputs": [
        {
          "output_type": "stream",
          "text": [
            "45\n"
          ],
          "name": "stdout"
        }
      ]
    },
    {
      "cell_type": "markdown",
      "metadata": {
        "id": "rGFV_3XSFf_F"
      },
      "source": [
        "##Länge einer Sequenzen"
      ]
    },
    {
      "cell_type": "code",
      "metadata": {
        "id": "RHJCcn5VFyeR"
      },
      "source": [
        "print(dataset.seq_len)"
      ],
      "execution_count": null,
      "outputs": []
    },
    {
      "cell_type": "markdown",
      "metadata": {
        "id": "W-IBC1t6F4d8"
      },
      "source": [
        "##Anzahl der Sequenzen"
      ]
    },
    {
      "cell_type": "code",
      "metadata": {
        "id": "eMwlvjVFF3zv"
      },
      "source": [
        "print(dataset.num_sequences)"
      ],
      "execution_count": null,
      "outputs": []
    },
    {
      "cell_type": "markdown",
      "metadata": {
        "id": "WNrxl5FEF1dN"
      },
      "source": [
        ""
      ]
    },
    {
      "cell_type": "code",
      "metadata": {
        "id": "oVEYPelE6X7x"
      },
      "source": [
        "class Flatten(nn.Module):\n",
        "    def forward(self, x):\n",
        "        N, C, H, W = x.size() # read in N, C, H, W\n",
        "        return x.view(N, -1)\n",
        "\n",
        "\n",
        "\n",
        "class SequenceClassify(nn.Module):\n",
        "    def __init__(self, dim, batch_size):\n",
        "        super(SequenceClassify, self).__init__()\n",
        "        self.recurrent_layer = nn.LSTM(45, 256, 1)\n",
        "        self.project_layer = nn.Linear(256, num_class)\n",
        "        ###################################################\n",
        "    def forward(self, input1, h_t_1=None, c_t_1=None):\n",
        "        lstm_input = input1\n",
        "        rnn_outputs, (hn, cn) = self.recurrent_layer(lstm_input)        \n",
        "        # classify the last step of rnn_outpus\n",
        "        logits = self.project_layer(rnn_outputs[:,-1])\n",
        "        return logits\n",
        "    \n",
        "    \n",
        "\n",
        "model = SequenceClassify(dim, batch_size).cuda()"
      ],
      "execution_count": null,
      "outputs": []
    },
    {
      "cell_type": "markdown",
      "metadata": {
        "id": "dq8Zy5W9GlPC"
      },
      "source": [
        "##Optimizer wahl"
      ]
    },
    {
      "cell_type": "code",
      "metadata": {
        "id": "_vKUsozn6fc4"
      },
      "source": [
        "# optimizer = torch.optim.SGD(model.parameters(), lr = 1e-3)\n",
        "optimizer = torch.optim.Adadelta(model.parameters(), lr = 1e-1)\n",
        "# optimizer = torch.optim.Adam(model.parameters(), lr=0.01)\n",
        "criterion = nn.CrossEntropyLoss()"
      ],
      "execution_count": null,
      "outputs": []
    },
    {
      "cell_type": "markdown",
      "metadata": {
        "id": "0NhhDOPL6wKK"
      },
      "source": [
        "# run the model for one epoch\n",
        "# can be used for both training or validation model"
      ]
    },
    {
      "cell_type": "code",
      "metadata": {
        "colab": {
          "base_uri": "https://localhost:8080/"
        },
        "id": "R-ZvYDB56stY",
        "outputId": "23da7002-4fc6-43d4-cda5-2c80a4acb4c4"
      },
      "source": [
        "def run_epoch(data_loader, model, criterion, epoch, is_training, optimizer=None):\n",
        "    if is_training:\n",
        "        model.train()\n",
        "        logger_prefix = 'train'\n",
        "    else:\n",
        "        model.eval()\n",
        "        logger_prefix = 'val'\n",
        "\n",
        "    confusion_matrix = tnt.meter.ConfusionMeter(num_class)\n",
        "    acc = tnt.meter.ClassErrorMeter(accuracy=True)\n",
        "    meter_loss = tnt.meter.AverageValueMeter()\n",
        "\n",
        "    for batch_idx, sample in enumerate(data_loader):\n",
        "        sequence = sample['seq']\n",
        "        label = sample['label']\n",
        "        input_sequence_var = Variable(sequence).type(FloatTensor)\n",
        "        input_label_var = Variable(label).type(LongTensor)\n",
        "        # compute output\n",
        "        # output_logits: [batch_size, num_class]\n",
        "        output_logits = model(input_sequence_var)\n",
        "        loss = criterion(output_logits, input_label_var)\n",
        "\n",
        "        if is_training:\n",
        "            optimizer.zero_grad()\n",
        "            loss.backward()\n",
        "            optimizer.step()\n",
        "\n",
        "\n",
        "        meter_loss.add(loss.item())\n",
        "        acc.add(output_logits.data, input_label_var.data)\n",
        "        confusion_matrix.add(output_logits.data, input_label_var.data)\n",
        "\n",
        "    print('%s Epoch: %d  , Loss: %.4f,  Accuracy: %.2f'%(logger_prefix, epoch, meter_loss.value()[0], acc.value()[0]))\n",
        "    if logger_prefix == 'val':\n",
        "        val_loss.append(meter_loss.value()[0])\n",
        "        val_accuracy.append(acc.value()[0])\n",
        "    else:\n",
        "        train_loss.append(meter_loss.value()[0])\n",
        "        train_accuracy.append(acc.value()[0])\n",
        "    return acc.value()[0]\n",
        "\n",
        "global val_loss, val_accuracy, train_loss, train_accuracy, num_epochs\n",
        "val_loss = []\n",
        "val_accuracy = []\n",
        "train_loss = []\n",
        "train_accuracy = []\n",
        "num_epochs = 51\n",
        "evaluate_every_epoch = 1\n",
        "\n",
        "for e in range(num_epochs):\n",
        "    print(\"Epoche \" + str(e) + \" of \" + str(num_epochs))\n",
        "    run_epoch(trLD, model, criterion, e, True, optimizer)\n",
        "    if e % evaluate_every_epoch == 0:\n",
        "        run_epoch(valLD, model, criterion, e, False, None)   \n",
        "\n",
        "# PATH = \"model.pth\"\n",
        "# torch.save(model.state_dict(), PATH)"
      ],
      "execution_count": null,
      "outputs": [
        {
          "output_type": "stream",
          "text": [
            "Epoche 0 of 51\n",
            "train Epoch: 0  , Loss: 1.0300,  Accuracy: 69.48\n",
            "val Epoch: 0  , Loss: 0.8679,  Accuracy: 76.67\n",
            "Epoche 1 of 51\n",
            "train Epoch: 1  , Loss: 0.7657,  Accuracy: 76.71\n",
            "val Epoch: 1  , Loss: 0.7801,  Accuracy: 76.67\n",
            "Epoche 2 of 51\n",
            "train Epoch: 2  , Loss: 0.6971,  Accuracy: 77.54\n",
            "val Epoch: 2  , Loss: 0.7017,  Accuracy: 77.18\n",
            "Epoche 3 of 51\n",
            "train Epoch: 3  , Loss: 0.6493,  Accuracy: 78.25\n",
            "val Epoch: 3  , Loss: 0.6709,  Accuracy: 77.95\n",
            "Epoche 4 of 51\n",
            "train Epoch: 4  , Loss: 0.5904,  Accuracy: 79.78\n",
            "val Epoch: 4  , Loss: 0.6223,  Accuracy: 80.77\n",
            "Epoche 5 of 51\n",
            "train Epoch: 5  , Loss: 0.5465,  Accuracy: 81.83\n",
            "val Epoch: 5  , Loss: 0.5983,  Accuracy: 80.51\n",
            "Epoche 6 of 51\n",
            "train Epoch: 6  , Loss: 0.5237,  Accuracy: 82.34\n",
            "val Epoch: 6  , Loss: 0.5984,  Accuracy: 81.79\n",
            "Epoche 7 of 51\n",
            "train Epoch: 7  , Loss: 0.4800,  Accuracy: 84.71\n",
            "val Epoch: 7  , Loss: 0.5659,  Accuracy: 84.62\n",
            "Epoche 8 of 51\n",
            "train Epoch: 8  , Loss: 0.4639,  Accuracy: 86.24\n",
            "val Epoch: 8  , Loss: 0.5384,  Accuracy: 83.33\n",
            "Epoche 9 of 51\n",
            "train Epoch: 9  , Loss: 0.4377,  Accuracy: 87.97\n",
            "val Epoch: 9  , Loss: 0.5165,  Accuracy: 84.87\n",
            "Epoche 10 of 51\n",
            "train Epoch: 10  , Loss: 0.4155,  Accuracy: 87.97\n",
            "val Epoch: 10  , Loss: 0.5203,  Accuracy: 85.38\n",
            "Epoche 11 of 51\n",
            "train Epoch: 11  , Loss: 0.4026,  Accuracy: 88.93\n",
            "val Epoch: 11  , Loss: 0.5101,  Accuracy: 85.64\n",
            "Epoche 12 of 51\n",
            "train Epoch: 12  , Loss: 0.3861,  Accuracy: 89.12\n",
            "val Epoch: 12  , Loss: 0.5061,  Accuracy: 85.38\n",
            "Epoche 13 of 51\n",
            "train Epoch: 13  , Loss: 0.3724,  Accuracy: 90.08\n",
            "val Epoch: 13  , Loss: 0.4984,  Accuracy: 86.67\n",
            "Epoche 14 of 51\n",
            "train Epoch: 14  , Loss: 0.3654,  Accuracy: 89.44\n",
            "val Epoch: 14  , Loss: 0.4842,  Accuracy: 86.15\n",
            "Epoche 15 of 51\n",
            "train Epoch: 15  , Loss: 0.3629,  Accuracy: 90.02\n",
            "val Epoch: 15  , Loss: 0.4813,  Accuracy: 86.15\n",
            "Epoche 16 of 51\n",
            "train Epoch: 16  , Loss: 0.3416,  Accuracy: 90.40\n",
            "val Epoch: 16  , Loss: 0.4943,  Accuracy: 86.41\n",
            "Epoche 17 of 51\n",
            "train Epoch: 17  , Loss: 0.3377,  Accuracy: 90.28\n",
            "val Epoch: 17  , Loss: 0.4894,  Accuracy: 86.41\n",
            "Epoche 18 of 51\n",
            "train Epoch: 18  , Loss: 0.3257,  Accuracy: 91.11\n",
            "val Epoch: 18  , Loss: 0.4890,  Accuracy: 85.64\n",
            "Epoche 19 of 51\n",
            "train Epoch: 19  , Loss: 0.3175,  Accuracy: 90.85\n",
            "val Epoch: 19  , Loss: 0.4816,  Accuracy: 86.15\n",
            "Epoche 20 of 51\n",
            "train Epoch: 20  , Loss: 0.3201,  Accuracy: 91.17\n",
            "val Epoch: 20  , Loss: 0.4718,  Accuracy: 86.41\n",
            "Epoche 21 of 51\n",
            "train Epoch: 21  , Loss: 0.3106,  Accuracy: 91.36\n",
            "val Epoch: 21  , Loss: 0.4650,  Accuracy: 87.44\n",
            "Epoche 22 of 51\n",
            "train Epoch: 22  , Loss: 0.3084,  Accuracy: 91.49\n",
            "val Epoch: 22  , Loss: 0.4851,  Accuracy: 86.41\n",
            "Epoche 23 of 51\n",
            "train Epoch: 23  , Loss: 0.3058,  Accuracy: 91.55\n",
            "val Epoch: 23  , Loss: 0.4615,  Accuracy: 87.69\n",
            "Epoche 24 of 51\n",
            "train Epoch: 24  , Loss: 0.2947,  Accuracy: 92.07\n",
            "val Epoch: 24  , Loss: 0.4795,  Accuracy: 87.69\n",
            "Epoche 25 of 51\n",
            "train Epoch: 25  , Loss: 0.2941,  Accuracy: 92.26\n",
            "val Epoch: 25  , Loss: 0.4539,  Accuracy: 87.95\n",
            "Epoche 26 of 51\n",
            "train Epoch: 26  , Loss: 0.2855,  Accuracy: 92.32\n",
            "val Epoch: 26  , Loss: 0.4653,  Accuracy: 87.44\n",
            "Epoche 27 of 51\n",
            "train Epoch: 27  , Loss: 0.2858,  Accuracy: 92.19\n",
            "val Epoch: 27  , Loss: 0.4671,  Accuracy: 86.67\n",
            "Epoche 28 of 51\n",
            "train Epoch: 28  , Loss: 0.2769,  Accuracy: 92.83\n",
            "val Epoch: 28  , Loss: 0.4722,  Accuracy: 88.46\n",
            "Epoche 29 of 51\n",
            "train Epoch: 29  , Loss: 0.2762,  Accuracy: 92.64\n",
            "val Epoch: 29  , Loss: 0.4434,  Accuracy: 87.69\n",
            "Epoche 30 of 51\n",
            "train Epoch: 30  , Loss: 0.2774,  Accuracy: 92.90\n",
            "val Epoch: 30  , Loss: 0.4631,  Accuracy: 87.95\n",
            "Epoche 31 of 51\n",
            "train Epoch: 31  , Loss: 0.2620,  Accuracy: 93.47\n",
            "val Epoch: 31  , Loss: 0.4752,  Accuracy: 88.46\n",
            "Epoche 32 of 51\n",
            "train Epoch: 32  , Loss: 0.2671,  Accuracy: 92.96\n",
            "val Epoch: 32  , Loss: 0.4531,  Accuracy: 88.72\n",
            "Epoche 33 of 51\n",
            "train Epoch: 33  , Loss: 0.2599,  Accuracy: 93.22\n",
            "val Epoch: 33  , Loss: 0.4674,  Accuracy: 88.46\n",
            "Epoche 34 of 51\n",
            "train Epoch: 34  , Loss: 0.2577,  Accuracy: 93.35\n",
            "val Epoch: 34  , Loss: 0.4535,  Accuracy: 90.00\n",
            "Epoche 35 of 51\n",
            "train Epoch: 35  , Loss: 0.2555,  Accuracy: 93.47\n",
            "val Epoch: 35  , Loss: 0.4516,  Accuracy: 88.97\n",
            "Epoche 36 of 51\n",
            "train Epoch: 36  , Loss: 0.2472,  Accuracy: 93.67\n",
            "val Epoch: 36  , Loss: 0.4489,  Accuracy: 88.46\n",
            "Epoche 37 of 51\n",
            "train Epoch: 37  , Loss: 0.2462,  Accuracy: 93.54\n",
            "val Epoch: 37  , Loss: 0.4662,  Accuracy: 88.72\n",
            "Epoche 38 of 51\n",
            "train Epoch: 38  , Loss: 0.2485,  Accuracy: 93.92\n",
            "val Epoch: 38  , Loss: 0.4651,  Accuracy: 88.97\n",
            "Epoche 39 of 51\n",
            "train Epoch: 39  , Loss: 0.2463,  Accuracy: 93.86\n",
            "val Epoch: 39  , Loss: 0.4617,  Accuracy: 88.72\n",
            "Epoche 40 of 51\n",
            "train Epoch: 40  , Loss: 0.2444,  Accuracy: 94.18\n",
            "val Epoch: 40  , Loss: 0.4546,  Accuracy: 89.49\n",
            "Epoche 41 of 51\n",
            "train Epoch: 41  , Loss: 0.2384,  Accuracy: 94.05\n",
            "val Epoch: 41  , Loss: 0.4505,  Accuracy: 89.49\n",
            "Epoche 42 of 51\n",
            "train Epoch: 42  , Loss: 0.2363,  Accuracy: 94.11\n",
            "val Epoch: 42  , Loss: 0.4665,  Accuracy: 88.46\n",
            "Epoche 43 of 51\n",
            "train Epoch: 43  , Loss: 0.2421,  Accuracy: 94.05\n",
            "val Epoch: 43  , Loss: 0.4673,  Accuracy: 89.23\n",
            "Epoche 44 of 51\n",
            "train Epoch: 44  , Loss: 0.2306,  Accuracy: 94.18\n",
            "val Epoch: 44  , Loss: 0.4533,  Accuracy: 88.97\n",
            "Epoche 45 of 51\n",
            "train Epoch: 45  , Loss: 0.2386,  Accuracy: 93.99\n",
            "val Epoch: 45  , Loss: 0.4620,  Accuracy: 88.21\n",
            "Epoche 46 of 51\n",
            "train Epoch: 46  , Loss: 0.2261,  Accuracy: 94.31\n",
            "val Epoch: 46  , Loss: 0.4563,  Accuracy: 88.46\n",
            "Epoche 47 of 51\n",
            "train Epoch: 47  , Loss: 0.2262,  Accuracy: 94.18\n",
            "val Epoch: 47  , Loss: 0.4691,  Accuracy: 88.46\n",
            "Epoche 48 of 51\n",
            "train Epoch: 48  , Loss: 0.2286,  Accuracy: 94.18\n",
            "val Epoch: 48  , Loss: 0.4646,  Accuracy: 88.72\n",
            "Epoche 49 of 51\n",
            "train Epoch: 49  , Loss: 0.2241,  Accuracy: 94.24\n",
            "val Epoch: 49  , Loss: 0.4674,  Accuracy: 88.97\n",
            "Epoche 50 of 51\n",
            "train Epoch: 50  , Loss: 0.2202,  Accuracy: 94.56\n",
            "val Epoch: 50  , Loss: 0.4699,  Accuracy: 88.72\n"
          ],
          "name": "stdout"
        }
      ]
    },
    {
      "cell_type": "code",
      "metadata": {
        "colab": {
          "base_uri": "https://localhost:8080/",
          "height": 295
        },
        "id": "-gZP0yIV61D8",
        "outputId": "40140459-ed58-4689-a78a-a5d7baab32e4"
      },
      "source": [
        "epochs = []\n",
        "for i in range(1, num_epochs+1):\n",
        "    epochs.append(i)\n",
        "import matplotlib.pyplot as plt\n",
        "%matplotlib inline\n",
        "# if logger_prefix == 'val':\n",
        "plot1 = plt.plot(epochs, train_loss)\n",
        "# else:\n",
        "plot2 = plt.plot(epochs, val_loss)\n",
        "plt.xlabel(\"Epochs\")\n",
        "plt.ylabel(\"Loss\")\n",
        "plt.title(\"Loss\")\n",
        "plt.legend([\"Training Loss\", \"Validation Loss\"], loc = 1)\n",
        "plt.show()"
      ],
      "execution_count": null,
      "outputs": [
        {
          "output_type": "display_data",
          "data": {
            "image/png": "[encoded data removed]",
            "text/plain": [
              "<Figure size 432x288 with 1 Axes>"
            ]
          },
          "metadata": {
            "tags": [],
            "needs_background": "light"
          }
        }
      ]
    },
    {
      "cell_type": "code",
      "metadata": {
        "colab": {
          "base_uri": "https://localhost:8080/",
          "height": 295
        },
        "id": "XoILAad066g2",
        "outputId": "c31eee5f-7948-4e3f-a80e-56f9181e7f69"
      },
      "source": [
        "epochs = []\n",
        "for i in range(1, len(train_accuracy)+1):\n",
        "    epochs.append(i)\n",
        "plot3 = plt.plot(epochs, train_accuracy)\n",
        "plot4 = plt.plot(epochs, val_accuracy)\n",
        "plt.xlabel(\"Epochs\")\n",
        "plt.ylabel(\"Accuracy\")\n",
        "plt.title(\"Accuracy\")\n",
        "plt.legend([\"Training Accuracy\", \"Validation Accuracy\"], loc = 1)\n",
        "plt.show()"
      ],
      "execution_count": null,
      "outputs": [
        {
          "output_type": "display_data",
          "data": {
            "image/png": "[encoded data removed]",
            "text/plain": [
              "<Figure size 432x288 with 1 Axes>"
            ]
          },
          "metadata": {
            "tags": [],
            "needs_background": "light"
          }
        }
      ]
    },
    {
      "cell_type": "markdown",
      "metadata": {
        "id": "atn3IaZM7AKs"
      },
      "source": [
        ""
      ]
    },
    {
      "cell_type": "code",
      "metadata": {
        "colab": {
          "base_uri": "https://localhost:8080/"
        },
        "id": "L8JdkveX6-qK",
        "outputId": "3deadd98-f83c-4d12-d7be-1635d96e77bd"
      },
      "source": [
        "\n",
        "# Use your best model to generate results on test set.\n",
        "\n",
        "# generate csv file for test set\n",
        "def predict_on_test(model, data_loader):\n",
        "    model.eval() # Put the model in test mode (the opposite of model.train(), essentially)\n",
        "    results=open(\"results.csv\",'w')\n",
        "    count=0\n",
        "    results.write('Id'+','+'Class'+'\\n')\n",
        "    for batch_idx, sample in enumerate(data_loader):\n",
        "        sequence = sample['seq']\n",
        "        input_sequence_var = Variable(sequence).type(FloatTensor)\n",
        "        scores = model(input_sequence_var)\n",
        "        _, preds = scores.data.max(1)\n",
        "        for i in range(len(preds)):\n",
        "            results.write(str(count)+','+str(preds[i])+'\\n')\n",
        "            count+=1\n",
        "    results.close()\n",
        "    return count\n",
        "\n",
        "count = predict_on_test(model, valLD)\n",
        "print(count)\n"
      ],
      "execution_count": null,
      "outputs": [
        {
          "output_type": "stream",
          "text": [
            "390\n"
          ],
          "name": "stdout"
        }
      ]
    },
    {
      "cell_type": "markdown",
      "metadata": {
        "id": "V7t6IwiuZMAo"
      },
      "source": [
        "\n"
      ]
    },
    {
      "cell_type": "markdown",
      "metadata": {
        "id": "n5L3Z5YVrZ2R"
      },
      "source": [
        "## Detect poses on a test video\n",
        "\n",
        "We are going to detect poses on the following youtube video:"
      ]
    },
    {
      "cell_type": "code",
      "metadata": {
        "id": "xIt-eyIDO6XG",
        "colab": {
          "base_uri": "https://localhost:8080/",
          "height": 321
        },
        "outputId": "67b07faf-34dd-4838-8d7f-42bebbd40a6f"
      },
      "source": [
        "from IPython.display import YouTubeVideo\n",
        "YOUTUBE_ID = 'BFuwmiwC5M4'\n",
        "\n",
        "\n",
        "YouTubeVideo(YOUTUBE_ID)"
      ],
      "execution_count": null,
      "outputs": [
        {
          "output_type": "execute_result",
          "data": {
            "text/html": [
              "\n",
              "        <iframe\n",
              "            width=\"400\"\n",
              "            height=\"300\"\n",
              "            src=\"https://www.youtube.com/embed/BFuwmiwC5M4\"\n",
              "            frameborder=\"0\"\n",
              "            allowfullscreen\n",
              "        ></iframe>\n",
              "        "
            ],
            "text/plain": [
              "<IPython.lib.display.YouTubeVideo at 0x7f0578edfa90>"
            ],
            "image/jpeg": "[encoded data removed]"
          },
          "metadata": {
            "tags": []
          },
          "execution_count": 15
        }
      ]
    },
    {
      "cell_type": "markdown",
      "metadata": {
        "id": "Kn08K-3bp-W9"
      },
      "source": [
        "Download the above youtube video, remove the first 15 seconds and do the pose detection on the next 5 seconds:"
      ]
    },
    {
      "cell_type": "code",
      "metadata": {
        "id": "oNASdyyiO65I",
        "colab": {
          "base_uri": "https://localhost:8080/"
        },
        "outputId": "276487e6-2d4a-4cb3-d7a9-1946207e21bf"
      },
      "source": [
        "!rm -rf youtube.mp4\n",
        "# download the youtube with the given ID\n",
        "!youtube-dl -f 'bestvideo[ext=mp4]' --output \"youtube.%(ext)s\" https://www.youtube.com/watch?v=$YOUTUBE_ID\n",
        "# cut the seconds between 15 and 20\n",
        "!ffmpeg -y -loglevel info -i youtube.mp4 video.mp4\n",
        "# detect poses on the these 5 seconds\n",
        "!rm openpose.avi\n",
        "!cd openpose && ./build/examples/openpose/openpose.bin --video ../video.mp4 --write_json ./output/ --display 0 --write_video ../openpose.avi --face --hand\n",
        "# convert the result into MP4\n",
        "!ffmpeg -y -loglevel info -i openpose.avi output.mp4"
      ],
      "execution_count": null,
      "outputs": [
        {
          "output_type": "stream",
          "text": [
            "[youtube] BFuwmiwC5M4: Downloading webpage\n",
            "[youtube] BFuwmiwC5M4: Downloading player 5d56cf74\n",
            "[youtube] BFuwmiwC5M4: Downloading MPD manifest\n",
            "[download] Destination: youtube.mp4\n",
            "\u001b[K[download] 100% of 101.31MiB in 00:19\n",
            "ffmpeg version 3.4.8-0ubuntu0.2 Copyright (c) 2000-2020 the FFmpeg developers\n",
            "  built with gcc 7 (Ubuntu 7.5.0-3ubuntu1~18.04)\n",
            "  configuration: --prefix=/usr --extra-version=0ubuntu0.2 --toolchain=hardened --libdir=/usr/lib/x86_64-linux-gnu --incdir=/usr/include/x86_64-linux-gnu --enable-gpl --disable-stripping --enable-avresample --enable-avisynth --enable-gnutls --enable-ladspa --enable-libass --enable-libbluray --enable-libbs2b --enable-libcaca --enable-libcdio --enable-libflite --enable-libfontconfig --enable-libfreetype --enable-libfribidi --enable-libgme --enable-libgsm --enable-libmp3lame --enable-libmysofa --enable-libopenjpeg --enable-libopenmpt --enable-libopus --enable-libpulse --enable-librubberband --enable-librsvg --enable-libshine --enable-libsnappy --enable-libsoxr --enable-libspeex --enable-libssh --enable-libtheora --enable-libtwolame --enable-libvorbis --enable-libvpx --enable-libwavpack --enable-libwebp --enable-libx265 --enable-libxml2 --enable-libxvid --enable-libzmq --enable-libzvbi --enable-omx --enable-openal --enable-opengl --enable-sdl2 --enable-libdc1394 --enable-libdrm --enable-libiec61883 --enable-chromaprint --enable-frei0r --enable-libopencv --enable-libx264 --enable-shared\n",
            "  libavutil      55. 78.100 / 55. 78.100\n",
            "  libavcodec     57.107.100 / 57.107.100\n",
            "  libavformat    57. 83.100 / 57. 83.100\n",
            "  libavdevice    57. 10.100 / 57. 10.100\n",
            "  libavfilter     6.107.100 /  6.107.100\n",
            "  libavresample   3.  7.  0 /  3.  7.  0\n",
            "  libswscale      4.  8.100 /  4.  8.100\n",
            "  libswresample   2.  9.100 /  2.  9.100\n",
            "  libpostproc    54.  7.100 / 54.  7.100\n",
            "Input #0, mov,mp4,m4a,3gp,3g2,mj2, from 'youtube.mp4':\n",
            "  Metadata:\n",
            "    major_brand     : dash\n",
            "    minor_version   : 0\n",
            "    compatible_brands: iso6avc1mp41\n",
            "    creation_time   : 2021-03-31T17:49:45.000000Z\n",
            "  Duration: 00:05:34.40, start: 0.000000, bitrate: 2541 kb/s\n",
            "    Stream #0:0(und): Video: h264 (High) (avc1 / 0x31637661), yuv420p(tv, bt709, progressive), 1920x1080 [SAR 1:1 DAR 16:9], 33 kb/s, 30 fps, 30 tbr, 15360 tbn, 60 tbc (default)\n",
            "    Metadata:\n",
            "      creation_time   : 2021-03-31T17:49:45.000000Z\n",
            "      handler_name    : ISO Media file produced by Google Inc.\n",
            "Stream mapping:\n",
            "  Stream #0:0 -> #0:0 (h264 (native) -> h264 (libx264))\n",
            "Press [q] to stop, [?] for help\n",
            "\u001b[1;36m[libx264 @ 0x55ee8e255900] \u001b[0musing SAR=1/1\n",
            "\u001b[1;36m[libx264 @ 0x55ee8e255900] \u001b[0musing cpu capabilities: MMX2 SSE2Fast SSSE3 SSE4.2 AVX FMA3 BMI2 AVX2\n",
            "\u001b[1;36m[libx264 @ 0x55ee8e255900] \u001b[0mprofile High, level 4.0\n",
            "\u001b[1;36m[libx264 @ 0x55ee8e255900] \u001b[0m264 - core 152 r2854 e9a5903 - H.264/MPEG-4 AVC codec - Copyleft 2003-2017 - http://www.videolan.org/x264.html - options: cabac=1 ref=3 deblock=1:0:0 analyse=0x3:0x113 me=hex subme=7 psy=1 psy_rd=1.00:0.00 mixed_ref=1 me_range=16 chroma_me=1 trellis=1 8x8dct=1 cqm=0 deadzone=21,11 fast_pskip=1 chroma_qp_offset=-2 threads=3 lookahead_threads=1 sliced_threads=0 nr=0 decimate=1 interlaced=0 bluray_compat=0 constrained_intra=0 bframes=3 b_pyramid=2 b_adapt=1 b_bias=0 direct=1 weightb=1 open_gop=0 weightp=2 keyint=250 keyint_min=25 scenecut=40 intra_refresh=0 rc_lookahead=40 rc=crf mbtree=1 crf=23.0 qcomp=0.60 qpmin=0 qpmax=69 qpstep=4 ip_ratio=1.40 aq=1:1.00\n",
            "Output #0, mp4, to 'video.mp4':\n",
            "  Metadata:\n",
            "    major_brand     : dash\n",
            "    minor_version   : 0\n",
            "    compatible_brands: iso6avc1mp41\n",
            "    encoder         : Lavf57.83.100\n",
            "    Stream #0:0(und): Video: h264 (libx264) (avc1 / 0x31637661), yuv420p, 1920x1080 [SAR 1:1 DAR 16:9], q=-1--1, 30 fps, 15360 tbn, 30 tbc (default)\n",
            "    Metadata:\n",
            "      creation_time   : 2021-03-31T17:49:45.000000Z\n",
            "      handler_name    : ISO Media file produced by Google Inc.\n",
            "      encoder         : Lavc57.107.100 libx264\n",
            "    Side data:\n",
            "      cpb: bitrate max/min/avg: 0/0/0 buffer size: 0 vbv_delay: -1\n",
            "frame=10032 fps= 13 q=-1.0 Lsize=  108666kB time=00:05:34.30 bitrate=2662.8kbits/s speed=0.439x    \n",
            "video:108546kB audio:0kB subtitle:0kB other streams:0kB global headers:0kB muxing overhead: 0.110435%\n",
            "\u001b[1;36m[libx264 @ 0x55ee8e255900] \u001b[0mframe I:42    Avg QP:17.46  size:158398\n",
            "\u001b[1;36m[libx264 @ 0x55ee8e255900] \u001b[0mframe P:2536  Avg QP:21.52  size: 24969\n",
            "\u001b[1;36m[libx264 @ 0x55ee8e255900] \u001b[0mframe B:7454  Avg QP:26.93  size:  5524\n",
            "\u001b[1;36m[libx264 @ 0x55ee8e255900] \u001b[0mconsecutive B-frames:  0.7%  0.6%  0.7% 98.1%\n",
            "\u001b[1;36m[libx264 @ 0x55ee8e255900] \u001b[0mmb I  I16..4: 13.0% 56.4% 30.7%\n",
            "\u001b[1;36m[libx264 @ 0x55ee8e255900] \u001b[0mmb P  I16..4:  2.2%  5.4%  0.7%  P16..4: 29.8%  9.0%  5.0%  0.0%  0.0%    skip:47.8%\n",
            "\u001b[1;36m[libx264 @ 0x55ee8e255900] \u001b[0mmb B  I16..4:  0.2%  0.7%  0.1%  B16..8: 29.1%  1.8%  0.4%  direct: 0.4%  skip:67.2%  L0:46.9% L1:50.7% BI: 2.4%\n",
            "\u001b[1;36m[libx264 @ 0x55ee8e255900] \u001b[0m8x8 transform intra:64.8% inter:69.1%\n",
            "\u001b[1;36m[libx264 @ 0x55ee8e255900] \u001b[0mcoded y,uvDC,uvAC intra: 49.6% 50.6% 7.8% inter: 5.3% 2.9% 0.0%\n",
            "\u001b[1;36m[libx264 @ 0x55ee8e255900] \u001b[0mi16 v,h,dc,p: 24% 22% 14% 40%\n",
            "\u001b[1;36m[libx264 @ 0x55ee8e255900] \u001b[0mi8 v,h,dc,ddl,ddr,vr,hd,vl,hu: 20% 19% 18%  6%  6%  7%  8%  8%  8%\n",
            "\u001b[1;36m[libx264 @ 0x55ee8e255900] \u001b[0mi4 v,h,dc,ddl,ddr,vr,hd,vl,hu: 28% 22% 13%  4%  7%  6%  7%  4%  8%\n",
            "\u001b[1;36m[libx264 @ 0x55ee8e255900] \u001b[0mi8c dc,h,v,p: 50% 21% 21%  8%\n",
            "\u001b[1;36m[libx264 @ 0x55ee8e255900] \u001b[0mWeighted P-Frames: Y:0.2% UV:0.0%\n",
            "\u001b[1;36m[libx264 @ 0x55ee8e255900] \u001b[0mref P L0: 59.5% 11.8% 18.4% 10.4%  0.0%\n",
            "\u001b[1;36m[libx264 @ 0x55ee8e255900] \u001b[0mref B L0: 86.3% 11.2%  2.5%\n",
            "\u001b[1;36m[libx264 @ 0x55ee8e255900] \u001b[0mref B L1: 93.9%  6.1%\n",
            "\u001b[1;36m[libx264 @ 0x55ee8e255900] \u001b[0mkb/s:2659.10\n",
            "rm: cannot remove 'openpose.avi': No such file or directory\n",
            "Starting OpenPose demo...\n",
            "Configuring OpenPose...\n",
            "Starting thread(s)...\n",
            "Auto-detecting all available GPUs... Detected 1 GPU(s), using 1 of them starting at GPU 0.\n",
            "OpenPose demo successfully finished. Total time: 5238.210359 seconds.\n",
            "ffmpeg version 3.4.8-0ubuntu0.2 Copyright (c) 2000-2020 the FFmpeg developers\n",
            "  built with gcc 7 (Ubuntu 7.5.0-3ubuntu1~18.04)\n",
            "  configuration: --prefix=/usr --extra-version=0ubuntu0.2 --toolchain=hardened --libdir=/usr/lib/x86_64-linux-gnu --incdir=/usr/include/x86_64-linux-gnu --enable-gpl --disable-stripping --enable-avresample --enable-avisynth --enable-gnutls --enable-ladspa --enable-libass --enable-libbluray --enable-libbs2b --enable-libcaca --enable-libcdio --enable-libflite --enable-libfontconfig --enable-libfreetype --enable-libfribidi --enable-libgme --enable-libgsm --enable-libmp3lame --enable-libmysofa --enable-libopenjpeg --enable-libopenmpt --enable-libopus --enable-libpulse --enable-librubberband --enable-librsvg --enable-libshine --enable-libsnappy --enable-libsoxr --enable-libspeex --enable-libssh --enable-libtheora --enable-libtwolame --enable-libvorbis --enable-libvpx --enable-libwavpack --enable-libwebp --enable-libx265 --enable-libxml2 --enable-libxvid --enable-libzmq --enable-libzvbi --enable-omx --enable-openal --enable-opengl --enable-sdl2 --enable-libdc1394 --enable-libdrm --enable-libiec61883 --enable-chromaprint --enable-frei0r --enable-libopencv --enable-libx264 --enable-shared\n",
            "  libavutil      55. 78.100 / 55. 78.100\n",
            "  libavcodec     57.107.100 / 57.107.100\n",
            "  libavformat    57. 83.100 / 57. 83.100\n",
            "  libavdevice    57. 10.100 / 57. 10.100\n",
            "  libavfilter     6.107.100 /  6.107.100\n",
            "  libavresample   3.  7.  0 /  3.  7.  0\n",
            "  libswscale      4.  8.100 /  4.  8.100\n",
            "  libswresample   2.  9.100 /  2.  9.100\n",
            "  libpostproc    54.  7.100 / 54.  7.100\n",
            "Input #0, avi, from 'openpose.avi':\n",
            "  Duration: 00:05:34.40, start: 0.000000, bitrate: 103102 kb/s\n",
            "    Stream #0:0: Video: mjpeg (MJPG / 0x47504A4D), yuvj420p(pc, bt470bg/unknown/unknown), 1920x1080 [SAR 1:1 DAR 16:9], 30 fps, 30 tbr, 30 tbn, 30 tbc\n",
            "Stream mapping:\n",
            "  Stream #0:0 -> #0:0 (mjpeg (native) -> h264 (libx264))\n",
            "Press [q] to stop, [?] for help\n",
            "\u001b[1;36m[libx264 @ 0x555e620e7e00] \u001b[0musing SAR=1/1\n",
            "\u001b[1;36m[libx264 @ 0x555e620e7e00] \u001b[0musing cpu capabilities: MMX2 SSE2Fast SSSE3 SSE4.2 AVX FMA3 BMI2 AVX2\n",
            "\u001b[1;36m[libx264 @ 0x555e620e7e00] \u001b[0mprofile High, level 4.0\n",
            "\u001b[1;36m[libx264 @ 0x555e620e7e00] \u001b[0m264 - core 152 r2854 e9a5903 - H.264/MPEG-4 AVC codec - Copyleft 2003-2017 - http://www.videolan.org/x264.html - options: cabac=1 ref=3 deblock=1:0:0 analyse=0x3:0x113 me=hex subme=7 psy=1 psy_rd=1.00:0.00 mixed_ref=1 me_range=16 chroma_me=1 trellis=1 8x8dct=1 cqm=0 deadzone=21,11 fast_pskip=1 chroma_qp_offset=-2 threads=3 lookahead_threads=1 sliced_threads=0 nr=0 decimate=1 interlaced=0 bluray_compat=0 constrained_intra=0 bframes=3 b_pyramid=2 b_adapt=1 b_bias=0 direct=1 weightb=1 open_gop=0 weightp=2 keyint=250 keyint_min=25 scenecut=40 intra_refresh=0 rc_lookahead=40 rc=crf mbtree=1 crf=23.0 qcomp=0.60 qpmin=0 qpmax=69 qpstep=4 ip_ratio=1.40 aq=1:1.00\n",
            "Output #0, mp4, to 'output.mp4':\n",
            "  Metadata:\n",
            "    encoder         : Lavf57.83.100\n",
            "    Stream #0:0: Video: h264 (libx264) (avc1 / 0x31637661), yuvj420p(pc), 1920x1080 [SAR 1:1 DAR 16:9], q=-1--1, 30 fps, 15360 tbn, 30 tbc\n",
            "    Metadata:\n",
            "      encoder         : Lavc57.107.100 libx264\n",
            "    Side data:\n",
            "      cpb: bitrate max/min/avg: 0/0/0 buffer size: 0 vbv_delay: -1\n",
            "frame=10032 fps= 11 q=-1.0 Lsize=  158541kB time=00:05:34.30 bitrate=3885.0kbits/s speed=0.379x    \n",
            "video:158420kB audio:0kB subtitle:0kB other streams:0kB global headers:0kB muxing overhead: 0.076099%\n",
            "\u001b[1;36m[libx264 @ 0x555e620e7e00] \u001b[0mframe I:41    Avg QP:18.29  size:185145\n",
            "\u001b[1;36m[libx264 @ 0x555e620e7e00] \u001b[0mframe P:2529  Avg QP:22.12  size: 33034\n",
            "\u001b[1;36m[libx264 @ 0x555e620e7e00] \u001b[0mframe B:7462  Avg QP:27.77  size:  9526\n",
            "\u001b[1;36m[libx264 @ 0x555e620e7e00] \u001b[0mconsecutive B-frames:  0.7%  0.1%  0.3% 98.8%\n",
            "\u001b[1;36m[libx264 @ 0x555e620e7e00] \u001b[0mmb I  I16..4:  9.5% 66.3% 24.2%\n",
            "\u001b[1;36m[libx264 @ 0x555e620e7e00] \u001b[0mmb P  I16..4:  1.8%  5.5%  1.3%  P16..4: 29.2% 11.5%  6.3%  0.0%  0.0%    skip:44.4%\n",
            "\u001b[1;36m[libx264 @ 0x555e620e7e00] \u001b[0mmb B  I16..4:  0.2%  0.8%  0.3%  B16..8: 29.7%  3.7%  1.0%  direct: 0.7%  skip:63.5%  L0:47.7% L1:49.5% BI: 2.8%\n",
            "\u001b[1;36m[libx264 @ 0x555e620e7e00] \u001b[0m8x8 transform intra:63.0% inter:68.1%\n",
            "\u001b[1;36m[libx264 @ 0x555e620e7e00] \u001b[0mcoded y,uvDC,uvAC intra: 54.8% 62.6% 24.1% inter: 6.6% 5.9% 2.0%\n",
            "\u001b[1;36m[libx264 @ 0x555e620e7e00] \u001b[0mi16 v,h,dc,p: 27% 24% 15% 34%\n",
            "\u001b[1;36m[libx264 @ 0x555e620e7e00] \u001b[0mi8 v,h,dc,ddl,ddr,vr,hd,vl,hu: 21% 19% 21%  6%  6%  6%  7%  7%  8%\n",
            "\u001b[1;36m[libx264 @ 0x555e620e7e00] \u001b[0mi4 v,h,dc,ddl,ddr,vr,hd,vl,hu: 25% 20% 17%  5%  7%  8%  7%  4%  6%\n",
            "\u001b[1;36m[libx264 @ 0x555e620e7e00] \u001b[0mi8c dc,h,v,p: 49% 22% 23%  6%\n",
            "\u001b[1;36m[libx264 @ 0x555e620e7e00] \u001b[0mWeighted P-Frames: Y:0.1% UV:0.0%\n",
            "\u001b[1;36m[libx264 @ 0x555e620e7e00] \u001b[0mref P L0: 56.5% 13.0% 19.9% 10.5%  0.0%\n",
            "\u001b[1;36m[libx264 @ 0x555e620e7e00] \u001b[0mref B L0: 83.4% 12.9%  3.7%\n",
            "\u001b[1;36m[libx264 @ 0x555e620e7e00] \u001b[0mref B L1: 93.6%  6.4%\n",
            "\u001b[1;36m[libx264 @ 0x555e620e7e00] \u001b[0mkb/s:3880.90\n"
          ],
          "name": "stdout"
        }
      ]
    },
    {
      "cell_type": "markdown",
      "metadata": {
        "id": "kDDkgCCSrFTv"
      },
      "source": [
        "Finally, visualize the result:"
      ]
    },
    {
      "cell_type": "code",
      "metadata": {
        "id": "nZ3Ud9zLgOoQ"
      },
      "source": [
        "def show_local_mp4_video(file_name, width=640, height=480):\n",
        "  import io\n",
        "  import base64\n",
        "  from IPython.display import HTML\n",
        "  video_encoded = base64.b64encode(io.open(file_name, 'rb').read())\n",
        "  return HTML(data='''<video width=\"{0}\" height=\"{1}\" alt=\"test\" controls>\n",
        "                        <source src=\"data:video/mp4;base64,{2}\" type=\"video/mp4\" />\n",
        "                      </video>'''.format(width, height, video_encoded.decode('ascii')))\n",
        "\n",
        "show_local_mp4_video('output.mp4', width=960, height=720)"
      ],
      "execution_count": null,
      "outputs": []
    }
  ]
}